{
 "cells": [
  {
   "cell_type": "code",
   "execution_count": 1,
   "metadata": {},
   "outputs": [],
   "source": [
    "import os\n",
    "import numpy as np\n",
    "from yael import ynumpy"
   ]
  },
  {
   "cell_type": "code",
   "execution_count": 2,
   "metadata": {},
   "outputs": [
    {
     "name": "stdout",
     "output_type": "stream",
     "text": [
      "137102\n"
     ]
    }
   ],
   "source": [
    "image_names = [filename.split('.')[0]\n",
    "               for filename in os.listdir(\"../siftgeo\")\n",
    "               if filename.endswith('.siftgeo')]\n",
    "print(image_names[0])\n",
    "\n",
    "# load the SIFTs for these images\n",
    "image_descs = []\n",
    "for imname in image_names:\n",
    "    desc, meta = ynumpy.siftgeo_read(\"../siftgeo/%s.siftgeo\" % imname)\n",
    "    if desc.size == 0: desc = np.zeros((0, 128), dtype = 'uint8')\n",
    "    # we drop the meta-information (point coordinates, orientation, etc.)\n",
    "    image_descs.append(desc)"
   ]
  },
  {
   "cell_type": "code",
   "execution_count": 5,
   "metadata": {},
   "outputs": [
    {
     "name": "stdout",
     "output_type": "stream",
     "text": [
      "(4455091, 128)\n",
      "(64000, 128)\n",
      "(64000, 64)\n"
     ]
    }
   ],
   "source": [
    "# make a big matrix with all image descriptors\n",
    "\n",
    "all_desc = np.vstack(image_descs)\n",
    "print(all_desc.shape)\n",
    "\n",
    "k = 64\n",
    "n_sample = k * 1000\n",
    "\n",
    "# choose n_sample descriptors at random\n",
    "sample_indices = np.random.choice(all_desc.shape[0], n_sample)\n",
    "sample = all_desc[sample_indices]\n",
    "\n",
    "# until now sample was in uint8. Convert to float32\n",
    "sample = sample.astype('float32')\n",
    "print(sample.shape)\n",
    "\n",
    "# compute mean and covariance matrix for the PCA\n",
    "mean = sample.mean(axis = 0)\n",
    "sample = sample - mean\n",
    "cov = np.dot(sample.T, sample)\n",
    "\n",
    "# compute PCA matrix and keep only 64 dimensions\n",
    "eigvals, eigvecs = np.linalg.eig(cov)\n",
    "perm = eigvals.argsort()                   # sort by increasing eigenvalue\n",
    "pca_transform = eigvecs[:, perm[64:128]]   # eigenvectors for the 64 last eigenvalues\n",
    "\n",
    "# transform sample with PCA (note that numpy imposes line-vectors,\n",
    "# so we right-multiply the vectors)\n",
    "sample = np.dot(sample, pca_transform)\n",
    "print(sample.shape)\n",
    "\n",
    "# train GMM\n",
    "gmm = ynumpy.gmm_learn(sample, k)"
   ]
  },
  {
   "cell_type": "code",
   "execution_count": 15,
   "metadata": {},
   "outputs": [
    {
     "name": "stdout",
     "output_type": "stream",
     "text": [
      "1491\n",
      "659\n",
      "[ 85  57  10   0   0   0   0  42  29  63  81 124   7   8  20  17  51 124\n",
      "  33  68   1  24  19   4   8 124  10   0   0   6   1   0 124  53  95  51\n",
      "   0   0   0  41 124  46  82 109   0   0   0  69  67  45  86 124   5   0\n",
      "   0  10  24  21   3   9   1  14   5   6  46  25  64  41   0   0   0  20\n",
      " 103  12  16   8   0   0   7 124  10   0   6  81  34  19  52  83   3   0\n",
      "   1  19  44  38  21  11   3  14  42  34   0   0   0   1   6   6  11  55\n",
      "   4   0  10  36   3   1   2   5   5   8  65  48   2   0   0  11  45  19\n",
      "  22  11]\n",
      "1491\n",
      "4096\n",
      "-0.38522238\n",
      "1491\n",
      "1491\n"
     ]
    },
    {
     "name": "stderr",
     "output_type": "stream",
     "text": [
      "/home/joan/anaconda3/envs/env_py2/lib/python2.7/site-packages/ipykernel_launcher.py:29: RuntimeWarning: divide by zero encountered in divide\n",
      "/home/joan/anaconda3/envs/env_py2/lib/python2.7/site-packages/ipykernel_launcher.py:29: RuntimeWarning: invalid value encountered in divide\n"
     ]
    }
   ],
   "source": [
    "image_fvs = []\n",
    "print(len(image_descs))\n",
    "print(len(image_descs[0]))\n",
    "print(image_descs[0][0])\n",
    "\n",
    "for image_desc in image_descs:\n",
    "    # apply the PCA to the image descriptor\n",
    "    image_desc = np.dot(image_desc - mean, pca_transform)\n",
    "    # compute the Fisher vector, using only the derivative w.r.t mu\n",
    "    fv = ynumpy.fisher(gmm, image_desc, include = 'mu')\n",
    "    image_fvs.append(fv)\n",
    "\n",
    "print(len(image_fvs))\n",
    "\n",
    "print(len(image_fvs[0]))\n",
    "print(image_fvs[0][0])\n",
    "\n",
    "# make one matrix with all FVs\n",
    "image_fvs = np.vstack(image_fvs)\n",
    "print(len(image_fvs))\n",
    "# normalizations are done on all descriptors at once\n",
    "\n",
    "# power-normalization\n",
    "image_fvs = np.sign(image_fvs) * np.abs(image_fvs) ** 0.5\n",
    "print(len(image_fvs))\n",
    "\n",
    "# L2 normalize\n",
    "norms = np.sqrt(np.sum(image_fvs ** 2, 1))\n",
    "image_fvs /= norms.reshape(-1, 1)\n",
    "\n",
    "# handle images with 0 local descriptor (100 = far away from \"normal\" images)\n",
    "image_fvs[np.isnan(image_fvs)] = 100"
   ]
  },
  {
   "cell_type": "code",
   "execution_count": null,
   "metadata": {},
   "outputs": [],
   "source": []
  }
 ],
 "metadata": {
  "kernelspec": {
   "display_name": "Python 2",
   "language": "python",
   "name": "python2"
  },
  "language_info": {
   "codemirror_mode": {
    "name": "ipython",
    "version": 2
   },
   "file_extension": ".py",
   "mimetype": "text/x-python",
   "name": "python",
   "nbconvert_exporter": "python",
   "pygments_lexer": "ipython2",
   "version": "2.7.17"
  }
 },
 "nbformat": 4,
 "nbformat_minor": 2
}
