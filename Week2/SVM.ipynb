{
 "cells": [
  {
   "cell_type": "markdown",
   "metadata": {},
   "source": [
    "M3. Improve BoVW with SVM's\n",
    "--"
   ]
  },
  {
   "cell_type": "code",
   "execution_count": 1,
   "metadata": {},
   "outputs": [],
   "source": [
    "import numpy as np\n",
    "import pickle\n",
    "import os\n",
    "\n",
    "import matplotlib.pyplot as plt\n",
    "%matplotlib inline\n",
    "from sklearn.model_selection import GridSearchCV\n",
    "from sklearn.svm import SVC\n",
    "from sklearn.preprocessing import StandardScaler\n",
    "\n",
    "from utils.CodeTimer import CodeTimer\n",
    "from utils.DatasetManager import DatasetManager\n",
    "from utils.Normalizer import Normalizer as Normalizer_\n",
    "from descriptors.SIFT import DenseSIFT as DenseSIFT_\n",
    "from descriptors.SIFT import DenseSIFTPyramid as DenseSIFTPyramid_\n",
    "from descriptors.VisualWords import VisualWords as VisualWords_\n",
    "from utils.Kernels import histogram_intersection_kernel\n",
    "from fishervector import FisherVectorGMM"
   ]
  },
  {
   "cell_type": "markdown",
   "metadata": {},
   "source": [
    "From previous week, we found that using the following parameters we obtained a precision for the test around 81.16%.\n",
    "\n",
    "   1. Vocabulary of 128\n",
    "   2. Bray Curtis Distance\n",
    "   3. Dense Sift using 8 as the step and the size of the keypoints.\n",
    "   4. Use LDA with 7 features.\n",
    "   \n",
    "This week we will try to increase this precision by using SVM. To do so we will study the following\n",
    "\n",
    "   1. First of all, a suggestion from last activity was to mix different scales of the DenseSIFT descriptors. We tried to change the steps and the sizes a bit but selecting the same number for the step and size gave us in the end the best result. \n",
    "   \n",
    "   2. Change the Vocabulary size or also known as number of clusters of the VisualWords.\n",
    "   3. See how Normalization affects the results.\n",
    "   4. Finetuning the SVM\n",
    "   5. See if using a pyramid strategy improves the previous results\n",
    "   6. Trying Fisher Vectors"
   ]
  },
  {
   "cell_type": "code",
   "execution_count": 6,
   "metadata": {},
   "outputs": [],
   "source": [
    "dataset = DatasetManager('../Databases/MIT_split')\n",
    "train_img_paths, train_labels, test_img_paths, test_labels = dataset.load_dataset()\n",
    "SAVE_PATH = '../SavePath/'"
   ]
  },
  {
   "cell_type": "markdown",
   "metadata": {},
   "source": [
    "Change the size of the DenseSIFT\n",
    "--"
   ]
  },
  {
   "cell_type": "markdown",
   "metadata": {},
   "source": [
    "In this experiment we will fix the vocabulary size, and we will only change the step and try different sizes of the DenseSIFT descriptors. In addition we will substitute the KNN with a SVM. We will also eliminate the LDA. "
   ]
  },
  {
   "cell_type": "code",
   "execution_count": 6,
   "metadata": {},
   "outputs": [
    {
     "name": "stdout",
     "output_type": "stream",
     "text": [
      "Train SVM: 2.523352861404419 s\n",
      "Test SVM: 0.18150997161865234 s\n",
      "Obtain training and test data: 306.0814678668976 s\n",
      "Train SVM: 2.12414288520813 s\n",
      "Test SVM: 0.18492579460144043 s\n",
      "Obtain training and test data: 176.2810640335083 s\n",
      "Train SVM: 1.9751551151275635 s\n",
      "Test SVM: 0.15711688995361328 s\n",
      "Obtain training and test data: 216.36603903770447 s\n",
      "Train SVM: 2.1164751052856445 s\n",
      "Test SVM: 0.17260003089904785 s\n",
      "Obtain training and test data: 314.469685792923 s\n",
      "Train SVM: 1.8273940086364746 s\n",
      "Test SVM: 0.1612539291381836 s\n",
      "Obtain training and test data: 111.42421984672546 s\n",
      "Train SVM: 2.0699920654296875 s\n",
      "Test SVM: 0.1585249900817871 s\n",
      "Obtain training and test data: 145.2274830341339 s\n",
      "Train SVM: 1.9113810062408447 s\n",
      "Test SVM: 0.15057086944580078 s\n",
      "Obtain training and test data: 218.12727189064026 s\n",
      "Train SVM: 1.8377351760864258 s\n",
      "Test SVM: 0.16202020645141602 s\n"
     ]
    }
   ],
   "source": [
    "N_CLUSTERS = 128\n",
    "K_FOLDS = 5\n",
    "PARAM_GRID = {'C': [1], 'kernel': ['rbf'], 'gamma': ['scale']}\n",
    "step_sizes = [8, 16, 32]\n",
    "descriptor_sizes_dict = {8: [[1],[0.5,1]], 16: [[1],[0.5,1],[0.25,0.5,0.75,1]], 32: [[1],[0.5,1],[0.25,0.5,0.75,1]]}\n",
    "results_test = []\n",
    "results_train = []\n",
    "\n",
    "DenseSIFT = DenseSIFT_()\n",
    "VisualWords = VisualWords_(N_CLUSTERS)\n",
    "for step_size in step_sizes:\n",
    "    for descriptor_sizes_ in descriptor_sizes_dict[step_size]:\n",
    "        # Define descriptor sizes\n",
    "        descriptor_sizes = sorted(list(set([int(i*step_size) for i in descriptor_sizes_])))\n",
    "        train_desc_path = SAVE_PATH+'desc'+os.sep+'train'+str(N_CLUSTERS)+'_'+str(step_size)+'_'+'-'.join([str(i) for i in descriptor_sizes])+'.dat'\n",
    "        test_desc_path = SAVE_PATH+'desc'+os.sep+'test'+str(N_CLUSTERS)+'_'+str(step_size)+'_'+'-'.join([str(i) for i in descriptor_sizes])+'.dat'\n",
    "        train_data_path = SAVE_PATH+'data'+os.sep+'train'+str(N_CLUSTERS)+'_'+str(step_size)+'_'+'-'.join([str(i) for i in descriptor_sizes])+'.dat'\n",
    "        test_data_path = SAVE_PATH+'data'+os.sep+'test'+str(N_CLUSTERS)+'_'+str(step_size)+'_'+'-'.join([str(i) for i in descriptor_sizes])+'.dat'\n",
    "        if all(os.path.isfile(path) for path in [train_desc_path,test_desc_path,train_data_path,test_data_path]):\n",
    "            train_desc = pickle.load(open(train_desc_path, 'rb'))\n",
    "            test_desc = pickle.load(open(test_desc_path,'rb'))\n",
    "            train_data = pickle.load(open(train_data_path,'rb'))\n",
    "            test_data = pickle.load(open(test_data_path,'rb'))\n",
    "        else:\n",
    "            with CodeTimer(\"Obtain training and test data\"):\n",
    "                # Compute DenseSIFT descriptors for train and test sets\n",
    "                train_desc = DenseSIFT.compute(train_img_paths, step_size, descriptor_sizes)\n",
    "                test_desc = DenseSIFT.compute(test_img_paths, step_size, descriptor_sizes)\n",
    "                # Save computed data\n",
    "                pickle.dump(train_desc, open(train_desc_path, 'wb'))\n",
    "                pickle.dump(test_desc, open(test_desc_path, 'wb'))\n",
    "                # Obtain visual words for train and test sets\n",
    "                VisualWords.fit(train_desc)\n",
    "                train_data = VisualWords.get_visual_words(train_desc)\n",
    "                test_data = VisualWords.get_visual_words(test_desc)\n",
    "                # Save computed data\n",
    "                pickle.dump(train_data, open(train_data_path, 'wb'))\n",
    "                pickle.dump(test_data, open(test_data_path, 'wb'))\n",
    "                # Train SVM with cross-validation 5-fold\n",
    "        with CodeTimer(\"Train SVM\"):\n",
    "            cv = GridSearchCV(SVC(), param_grid=PARAM_GRID, cv=K_FOLDS)\n",
    "            cv.fit(train_data, train_labels)\n",
    "        # Test SVM\n",
    "        with CodeTimer(\"Test SVM\"):\n",
    "            results_train.append(cv.score(train_data, train_labels))\n",
    "            results_test.append(cv.score(test_data, test_labels))"
   ]
  },
  {
   "cell_type": "code",
   "execution_count": 27,
   "metadata": {},
   "outputs": [
    {
     "data": {
      "image/png": "[encoded data removed]",
      "text/plain": [
       "<Figure size 576x360 with 1 Axes>"
      ]
     },
     "metadata": {
      "needs_background": "light"
     },
     "output_type": "display_data"
    }
   ],
   "source": [
    "plt.figure(figsize=(8, 5))\n",
    "plt.title('Results from different steps and scales of the descriptors')\n",
    "plt.plot(results_train,'b',linewidth=2,label='Train')\n",
    "plt.plot(results_test,'r',linewidth=2,label='Test')\n",
    "plt.ylabel('Accuracy')\n",
    "plt.xlabel('Different Step and Scale for DenseSIFT')\n",
    "plt.legend()\n",
    "plt.grid(True)\n",
    "plt.show()"
   ]
  },
  {
   "cell_type": "markdown",
   "metadata": {},
   "source": [
    "To explain this graph we have tried for different step sizes different sizes. So for the steps we have tried 8,16 and 32. Then for each one we have tried the scales to be first the same as the step, then adding $\\frac{step}{2}$ and finally adding $\\frac{3 \\cdot step}{4}$ and $\\frac{step}{4}$.  \n",
    "\n",
    "We present here the X Axis:\n",
    "\n",
    "0. Step: 8 -- Scales: 8\n",
    "1. Step: 8 -- Scales: 4-8\n",
    "2. Step: 16 -- Scales: 16\n",
    "3. Step: 16 -- Scales: 8-16\n",
    "4. Step: 16 -- Scales: 4-8-12-16\n",
    "5. Step: 32 -- Scales: 32\n",
    "6. Step: 32 -- Scales: 16-32\n",
    "7. Step: 32 -- Scales: 8-16-24-32\n",
    "\n",
    "Conclusion: \n",
    "\n",
    "As the graph shows using small step size generally works better than taking big step sizes. Then taking different scales we see that tends to improve the results. For computation cost we have decided to use a step size of 16 and scales of 8 and 16 for our descriptors.\n",
    "\n",
    "We also see a consistent difference between the train accuracy and the test accuracy, which seems to us that could be reduced when taking into account the regularization parameter of the SVM."
   ]
  },
  {
   "cell_type": "markdown",
   "metadata": {},
   "source": [
    "Change the number of Clusters or the Vocabulary size\n",
    "--"
   ]
  },
  {
   "cell_type": "markdown",
   "metadata": {},
   "source": [
    "For this experiment now we will try different number of clusters"
   ]
  },
  {
   "cell_type": "code",
   "execution_count": 19,
   "metadata": {},
   "outputs": [
    {
     "name": "stdout",
     "output_type": "stream",
     "text": [
      "Obtain training and test data: 40.542662143707275 s\n",
      "Train SVM: 2.670769214630127 s\n",
      "Test SVM: 0.20858502388000488 s\n",
      "Obtain training and test data: 53.31530809402466 s\n",
      "Train SVM: 5.075722932815552 s\n",
      "Test SVM: 0.4352397918701172 s\n",
      "Obtain training and test data: 72.8689751625061 s\n",
      "Train SVM: 7.793022871017456 s\n",
      "Test SVM: 0.6836180686950684 s\n",
      "Obtain training and test data: 117.54529309272766 s\n",
      "Train SVM: 10.785996198654175 s\n",
      "Test SVM: 0.8818421363830566 s\n",
      "Obtain training and test data: 183.32933926582336 s\n",
      "Train SVM: 13.98125410079956 s\n",
      "Test SVM: 1.1225290298461914 s\n",
      "Obtain training and test data: 243.6653392314911 s\n",
      "Train SVM: 17.40980315208435 s\n",
      "Test SVM: 1.5564053058624268 s\n",
      "Obtain training and test data: 300.5999069213867 s\n",
      "Train SVM: 20.803389072418213 s\n",
      "Test SVM: 1.5164148807525635 s\n",
      "Obtain training and test data: 355.8561749458313 s\n",
      "Train SVM: 24.697921991348267 s\n",
      "Test SVM: 1.8541321754455566 s\n"
     ]
    }
   ],
   "source": [
    "STEP_SIZE = 16\n",
    "DESC_SIZE = [8,16]\n",
    "N_CLUSTERS = [128, 256, 384, 512, 640, 768, 896, 1024]\n",
    "results_test = []\n",
    "results_train = []\n",
    "\n",
    "DenseSIFT = DenseSIFT_()\n",
    "for n_cluster in N_CLUSTERS:\n",
    "    VisualWords = VisualWords_(n_cluster)\n",
    "    train_desc_path = SAVE_PATH+'desc'+os.sep+'train'+str(n_cluster)+'_'+str(STEP_SIZE)+'_8-16.dat'\n",
    "    test_desc_path = SAVE_PATH+'desc'+os.sep+'test'+str(n_cluster)+'_'+str(STEP_SIZE)+'_8-16.dat'\n",
    "    train_data_path = SAVE_PATH+'data'+os.sep+'train'+str(n_cluster)+'_'+str(STEP_SIZE)+'_8-16.dat'\n",
    "    test_data_path = SAVE_PATH+'data'+os.sep+'test'+str(n_cluster)+'_'+str(STEP_SIZE)+'_8-16.dat'\n",
    "    if all(os.path.isfile(path) for path in [train_desc_path,test_desc_path,train_data_path,test_data_path]):\n",
    "        train_desc = pickle.load(open(train_desc_path, 'rb'))\n",
    "        test_desc = pickle.load(open(test_desc_path,'rb'))\n",
    "        train_data = pickle.load(open(train_data_path,'rb'))\n",
    "        test_data = pickle.load(open(test_data_path,'rb'))\n",
    "    else:\n",
    "        with CodeTimer(\"Obtain training and test data\"):\n",
    "            # Compute DenseSIFT descriptors for train and test sets\n",
    "            train_desc = DenseSIFT.compute(train_img_paths, STEP_SIZE, DESC_SIZE)\n",
    "            test_desc = DenseSIFT.compute(test_img_paths, STEP_SIZE, DESC_SIZE)\n",
    "            # Save computed data\n",
    "            pickle.dump(train_desc, open(train_desc_path, 'wb'))\n",
    "            pickle.dump(test_desc, open(test_desc_path, 'wb'))\n",
    "            # Obtain visual words for train and test sets\n",
    "            VisualWords.fit(train_desc)\n",
    "            train_data = VisualWords.get_visual_words(train_desc)\n",
    "            test_data = VisualWords.get_visual_words(test_desc)\n",
    "            # Save computed data\n",
    "            pickle.dump(train_data, open(train_data_path, 'wb'))\n",
    "            pickle.dump(test_data, open(test_data_path, 'wb'))\n",
    "            # Train SVM with cross-validation 5-fold\n",
    "    with CodeTimer(\"Train SVM\"):\n",
    "        cv = GridSearchCV(SVC(), param_grid=PARAM_GRID, cv=K_FOLDS)\n",
    "        cv.fit(train_data, train_labels)\n",
    "    # Test SVM\n",
    "    with CodeTimer(\"Test SVM\"):\n",
    "        results_train.append(cv.score(train_data, train_labels)) \n",
    "        results_test.append(cv.score(test_data, test_labels)) "
   ]
  },
  {
   "cell_type": "code",
   "execution_count": 29,
   "metadata": {},
   "outputs": [
    {
     "data": {
      "image/png": "[encoded data removed]",
      "text/plain": [
       "<Figure size 576x360 with 1 Axes>"
      ]
     },
     "metadata": {
      "needs_background": "light"
     },
     "output_type": "display_data"
    }
   ],
   "source": [
    "plt.figure(figsize=(8, 5))\n",
    "plt.title('Results from different number of clusters.')\n",
    "plt.plot(N_CLUSTERS,results_train,'b',linewidth=2,label='Test')\n",
    "plt.plot(N_CLUSTERS,results_test,'r',linewidth=2,label='Train')\n",
    "plt.ylabel('Accuracy')\n",
    "plt.xlabel('Number of Clusters/Size of Vocabulary')\n",
    "plt.grid(True)\n",
    "plt.show()"
   ]
  },
  {
   "cell_type": "markdown",
   "metadata": {},
   "source": [
    "Conclusion:\n",
    "    \n",
    "In this graph we can appreciate that using now more clusters helps the SVM to increase the accuracy from 81.16% to more than 86% (86.74% to be exacts) which is great. Until this point we have been using the default parameters of the SVM which are:\n",
    "\n",
    "1. C -- (Regularization parameter): 1\n",
    "2. kernel -- (Specifies the kernel): RBF\n",
    "3. gamma -- (Kernel coefficient): scale\n",
    "5. decision_function_shape -- (Whether to return a one-vs-rest or other settings): ovr"
   ]
  },
  {
   "cell_type": "markdown",
   "metadata": {},
   "source": [
    "How Normalization affects the results\n",
    "--"
   ]
  },
  {
   "cell_type": "markdown",
   "metadata": {},
   "source": [
    "In this experiment we are going to normalize the data and then see if the normalization actually improves the results versus not applying it. We will try 3 types of normalizations:\n",
    "   1. L1\n",
    "   2. L2\n",
    "   3. Power\n",
    "   \n",
    "Apart from these normalizations we will also normalize in mean and variance the data using a class from sklearn call _Standard Scalar_"
   ]
  },
  {
   "cell_type": "code",
   "execution_count": 9,
   "metadata": {},
   "outputs": [],
   "source": [
    "N_CLUSTERS = 896\n",
    "STEP_SIZE = 16\n",
    "DESC_SIZE = [8,16]\n",
    "K_FOLDS = 5\n",
    "PARAM_GRID = {'C': [1], 'kernel': ['rbf'], 'gamma': ['scale']}\n",
    "NORMALIZATIONS = [\"l1\",\"l2\",\"power\"]"
   ]
  },
  {
   "cell_type": "code",
   "execution_count": 10,
   "metadata": {},
   "outputs": [
    {
     "name": "stdout",
     "output_type": "stream",
     "text": [
      "Train SVM: 28.611683130264282 s\n",
      "Test SVM: 5.206831932067871 s\n",
      "Train SVM: 27.188402891159058 s\n",
      "Test SVM: 5.178617238998413 s\n",
      "Train SVM: 28.08722472190857 s\n",
      "Test SVM: 5.254977703094482 s\n"
     ]
    }
   ],
   "source": [
    "results_train = []\n",
    "results_test = []\n",
    "\n",
    "DenseSIFT = DenseSIFT_()\n",
    "scaler = StandardScaler()\n",
    "VisualWords = VisualWords_(N_CLUSTERS)\n",
    "Normalizer = Normalizer_()\n",
    "\n",
    "train_desc_path = SAVE_PATH+os.sep+'desc'+os.sep+'train'+str(N_CLUSTERS)+'_'+str(STEP_SIZE)+'_8-16.dat'\n",
    "test_desc_path = SAVE_PATH+os.sep+'desc'+os.sep+'test'+str(N_CLUSTERS)+'_'+str(STEP_SIZE)+'_8-16.dat'\n",
    "train_data_path = SAVE_PATH+os.sep+'data'+os.sep+'train'+str(N_CLUSTERS)+'_'+str(STEP_SIZE)+'_8-16.dat'\n",
    "test_data_path = SAVE_PATH+os.sep+'data'+os.sep+'test'+str(N_CLUSTERS)+'_'+str(STEP_SIZE)+'_8-16.dat'\n",
    "if all(os.path.isfile(path) for path in [train_desc_path,test_desc_path,train_data_path,test_data_path]):\n",
    "    train_desc = pickle.load(open(train_desc_path, 'rb'))\n",
    "    test_desc = pickle.load(open(test_desc_path,'rb'))\n",
    "    train_data = pickle.load(open(train_data_path,'rb'))\n",
    "    test_data = pickle.load(open(test_data_path,'rb'))\n",
    "else:\n",
    "    with CodeTimer(\"Obtain training and test data\"):\n",
    "        # Compute DenseSIFT descriptors for train and test sets\n",
    "        train_desc = DenseSIFT.compute(train_img_paths, STEP_SIZE, DESC_SIZE, 2)\n",
    "        test_desc = DenseSIFT.compute(test_img_paths, STEP_SIZE, DESC_SIZE, 2)\n",
    "        # Save computed data\n",
    "        pickle.dump(train_desc, open(train_desc_path, 'wb'))\n",
    "        pickle.dump(test_desc, open(test_desc_path, 'wb'))\n",
    "        # Obtain visual words for train and test sets\n",
    "        VisualWords.fit(train_desc)\n",
    "        train_data = VisualWords.get_visual_words(train_desc)\n",
    "        test_data = VisualWords.get_visual_words(test_desc)\n",
    "        # Save computed data\n",
    "        pickle.dump(train_data, open(train_data_path, 'wb'))\n",
    "        pickle.dump(test_data, open(test_data_path, 'wb'))\n",
    "for norm in NORMALIZATIONS:\n",
    "    # Normalize data\n",
    "    train_data_norm = Normalizer.normalize(train_data, norm)\n",
    "    test_data_norm = Normalizer.normalize(test_data, norm)\n",
    "    # Scale data\n",
    "    train_data_norm = scaler.fit_transform(train_data_norm)\n",
    "    test_data_norm = scaler.transform(test_data_norm)\n",
    "    # Train SVM with cross-validation 5-fold\n",
    "    with CodeTimer(\"Train SVM\"):\n",
    "        cv = GridSearchCV(SVC(), param_grid=PARAM_GRID, cv=K_FOLDS)\n",
    "        cv.fit(train_data_norm, train_labels)\n",
    "    # Test SVM\n",
    "    with CodeTimer(\"Test SVM\"):\n",
    "        results_train.append(cv.score(train_data_norm, train_labels)) \n",
    "        results_test.append(cv.score(test_data_norm, test_labels))"
   ]
  },
  {
   "cell_type": "code",
   "execution_count": 11,
   "metadata": {},
   "outputs": [
    {
     "data": {
      "image/png": "[encoded data removed]",
      "text/plain": [
       "<Figure size 576x360 with 1 Axes>"
      ]
     },
     "metadata": {
      "needs_background": "light"
     },
     "output_type": "display_data"
    }
   ],
   "source": [
    "plt.figure(figsize=(8, 5))\n",
    "plt.title('Results from different normalizations.')\n",
    "plt.plot(NORMALIZATIONS,results_train,'b',linewidth=2,label='Test')\n",
    "plt.plot(NORMALIZATIONS,results_test,'r',linewidth=2,label='Train')\n",
    "plt.ylabel('Accuracy')\n",
    "plt.xlabel('Normalizations')\n",
    "plt.grid(True)\n",
    "plt.show()"
   ]
  },
  {
   "cell_type": "markdown",
   "metadata": {},
   "source": [
    "Conclusions: \n",
    "\n",
    "Observing this graph we can see that the L1 normalization seems to work better than the other normalizations. However, we see a significant drop in performance compared with previous test. We have to be careful because this test has been computed using the vanilla SVM, so maybe adjusting the SVM we achieve to imporve the results, so from here L1 normalization will be applied."
   ]
  },
  {
   "cell_type": "markdown",
   "metadata": {},
   "source": [
    "Finetuning the SVM\n",
    "--"
   ]
  },
  {
   "cell_type": "markdown",
   "metadata": {},
   "source": [
    "To finetune the SVM we have three main parameters to test:\n",
    "\n",
    "1. C: Regularizer constant\n",
    "2. Kernel: type of kernel used\n",
    "3. tol: Tolerance, value to adjust the level of tolerance on accepting errors.\n",
    "\n",
    "For the C we will try low, mid and high values using a logarithmic scale. For the tolerance we will use values between 0 and 1. Finally for the kernels we will be using the default 'rbf', 'linear', 'sigmoid' and our implementation of the ***histogram intersection kernel***:  \n",
    "\n",
    "```python\n",
    "def histogram_intersection_kernel(a, b):\n",
    "    K = np.empty(shape=(a.shape[0], b.shape[0]), dtype=np.float32)\n",
    "    for i in range(a.shape[0]):\n",
    "        K[i] = np.sum(np.minimum(a[i], b), axis=1)\n",
    "    return K\n",
    "```"
   ]
  },
  {
   "cell_type": "code",
   "execution_count": 12,
   "metadata": {},
   "outputs": [],
   "source": [
    "N_CLUSTERS = 896\n",
    "STEP_SIZE = 16\n",
    "DESC_SIZE = [8,16]\n",
    "K_FOLDS = 5\n",
    "C = np.logspace(-4,4,15,base=10).tolist()\n",
    "TOLERANCE = np.logspace(-3,0,10,base=2).tolist()"
   ]
  },
  {
   "cell_type": "code",
   "execution_count": 28,
   "metadata": {},
   "outputs": [
    {
     "name": "stdout",
     "output_type": "stream",
     "text": [
      "Obtain training and test data: 0.10731077194213867 s\n",
      "Fitting 5 folds for each of 10 candidates, totalling 50 fits\n"
     ]
    },
    {
     "name": "stderr",
     "output_type": "stream",
     "text": [
      "[Parallel(n_jobs=-1)]: Using backend LokyBackend with 4 concurrent workers.\n",
      "[Parallel(n_jobs=-1)]: Done  10 tasks      | elapsed:  1.2min\n",
      "[Parallel(n_jobs=-1)]: Done  50 out of  50 | elapsed:  5.3min finished\n"
     ]
    },
    {
     "name": "stdout",
     "output_type": "stream",
     "text": [
      "Train SVM: 331.84140968322754 s\n",
      "Test SVM: 22.50127911567688 s\n",
      "Fitting 5 folds for each of 10 candidates, totalling 50 fits\n"
     ]
    },
    {
     "name": "stderr",
     "output_type": "stream",
     "text": [
      "[Parallel(n_jobs=-1)]: Using backend LokyBackend with 4 concurrent workers.\n",
      "[Parallel(n_jobs=-1)]: Done  10 tasks      | elapsed:  1.2min\n",
      "[Parallel(n_jobs=-1)]: Done  50 out of  50 | elapsed:  5.4min finished\n"
     ]
    },
    {
     "name": "stdout",
     "output_type": "stream",
     "text": [
      "Train SVM: 338.90132784843445 s\n",
      "Test SVM: 22.799152135849 s\n",
      "Fitting 5 folds for each of 10 candidates, totalling 50 fits\n"
     ]
    },
    {
     "name": "stderr",
     "output_type": "stream",
     "text": [
      "[Parallel(n_jobs=-1)]: Using backend LokyBackend with 4 concurrent workers.\n",
      "[Parallel(n_jobs=-1)]: Done  10 tasks      | elapsed:  1.3min\n",
      "[Parallel(n_jobs=-1)]: Done  50 out of  50 | elapsed:  5.6min finished\n"
     ]
    },
    {
     "name": "stdout",
     "output_type": "stream",
     "text": [
      "Train SVM: 354.8057768344879 s\n",
      "Test SVM: 22.16109585762024 s\n",
      "Fitting 5 folds for each of 10 candidates, totalling 50 fits\n"
     ]
    },
    {
     "name": "stderr",
     "output_type": "stream",
     "text": [
      "[Parallel(n_jobs=-1)]: Using backend LokyBackend with 4 concurrent workers.\n",
      "[Parallel(n_jobs=-1)]: Done  10 tasks      | elapsed:  1.2min\n",
      "[Parallel(n_jobs=-1)]: Done  50 out of  50 | elapsed:  5.1min finished\n"
     ]
    },
    {
     "name": "stdout",
     "output_type": "stream",
     "text": [
      "Train SVM: 323.64914107322693 s\n",
      "Test SVM: 21.932013034820557 s\n",
      "Fitting 5 folds for each of 10 candidates, totalling 50 fits\n"
     ]
    },
    {
     "name": "stderr",
     "output_type": "stream",
     "text": [
      "[Parallel(n_jobs=-1)]: Using backend LokyBackend with 4 concurrent workers.\n",
      "[Parallel(n_jobs=-1)]: Done  10 tasks      | elapsed:  1.3min\n",
      "[Parallel(n_jobs=-1)]: Done  50 out of  50 | elapsed:  5.4min finished\n"
     ]
    },
    {
     "name": "stdout",
     "output_type": "stream",
     "text": [
      "Train SVM: 341.06829285621643 s\n",
      "Test SVM: 22.34979796409607 s\n",
      "Fitting 5 folds for each of 10 candidates, totalling 50 fits\n"
     ]
    },
    {
     "name": "stderr",
     "output_type": "stream",
     "text": [
      "[Parallel(n_jobs=-1)]: Using backend LokyBackend with 4 concurrent workers.\n",
      "[Parallel(n_jobs=-1)]: Done  10 tasks      | elapsed:  1.3min\n",
      "[Parallel(n_jobs=-1)]: Done  50 out of  50 | elapsed:  5.5min finished\n"
     ]
    },
    {
     "name": "stdout",
     "output_type": "stream",
     "text": [
      "Train SVM: 342.7166039943695 s\n",
      "Test SVM: 22.497880935668945 s\n",
      "Fitting 5 folds for each of 10 candidates, totalling 50 fits\n"
     ]
    },
    {
     "name": "stderr",
     "output_type": "stream",
     "text": [
      "[Parallel(n_jobs=-1)]: Using backend LokyBackend with 4 concurrent workers.\n",
      "[Parallel(n_jobs=-1)]: Done  10 tasks      | elapsed:  1.4min\n",
      "[Parallel(n_jobs=-1)]: Done  50 out of  50 | elapsed:  5.9min finished\n"
     ]
    },
    {
     "name": "stdout",
     "output_type": "stream",
     "text": [
      "Train SVM: 367.93542408943176 s\n",
      "Test SVM: 22.06014394760132 s\n",
      "Fitting 5 folds for each of 10 candidates, totalling 50 fits\n"
     ]
    },
    {
     "name": "stderr",
     "output_type": "stream",
     "text": [
      "[Parallel(n_jobs=-1)]: Using backend LokyBackend with 4 concurrent workers.\n",
      "[Parallel(n_jobs=-1)]: Done  10 tasks      | elapsed:  1.4min\n",
      "[Parallel(n_jobs=-1)]: Done  50 out of  50 | elapsed:  5.8min finished\n"
     ]
    },
    {
     "name": "stdout",
     "output_type": "stream",
     "text": [
      "Train SVM: 364.5730230808258 s\n",
      "Test SVM: 22.386289358139038 s\n",
      "Fitting 5 folds for each of 10 candidates, totalling 50 fits\n"
     ]
    },
    {
     "name": "stderr",
     "output_type": "stream",
     "text": [
      "[Parallel(n_jobs=-1)]: Using backend LokyBackend with 4 concurrent workers.\n",
      "[Parallel(n_jobs=-1)]: Done  10 tasks      | elapsed:  1.3min\n",
      "[Parallel(n_jobs=-1)]: Done  50 out of  50 | elapsed:  5.6min finished\n"
     ]
    },
    {
     "name": "stdout",
     "output_type": "stream",
     "text": [
      "Train SVM: 351.5926969051361 s\n",
      "Test SVM: 22.023789167404175 s\n",
      "Fitting 5 folds for each of 10 candidates, totalling 50 fits\n"
     ]
    },
    {
     "name": "stderr",
     "output_type": "stream",
     "text": [
      "[Parallel(n_jobs=-1)]: Using backend LokyBackend with 4 concurrent workers.\n",
      "[Parallel(n_jobs=-1)]: Done  10 tasks      | elapsed:  1.4min\n",
      "[Parallel(n_jobs=-1)]: Done  50 out of  50 | elapsed:  5.6min finished\n"
     ]
    },
    {
     "name": "stdout",
     "output_type": "stream",
     "text": [
      "Train SVM: 353.201455116272 s\n",
      "Test SVM: 22.102097988128662 s\n",
      "Fitting 5 folds for each of 10 candidates, totalling 50 fits\n"
     ]
    },
    {
     "name": "stderr",
     "output_type": "stream",
     "text": [
      "[Parallel(n_jobs=-1)]: Using backend LokyBackend with 4 concurrent workers.\n",
      "[Parallel(n_jobs=-1)]: Done  10 tasks      | elapsed:  1.4min\n",
      "[Parallel(n_jobs=-1)]: Done  50 out of  50 | elapsed:  5.7min finished\n"
     ]
    },
    {
     "name": "stdout",
     "output_type": "stream",
     "text": [
      "Train SVM: 360.98431396484375 s\n",
      "Test SVM: 23.099926948547363 s\n",
      "Fitting 5 folds for each of 10 candidates, totalling 50 fits\n"
     ]
    },
    {
     "name": "stderr",
     "output_type": "stream",
     "text": [
      "[Parallel(n_jobs=-1)]: Using backend LokyBackend with 4 concurrent workers.\n",
      "[Parallel(n_jobs=-1)]: Done  10 tasks      | elapsed:  1.4min\n",
      "[Parallel(n_jobs=-1)]: Done  50 out of  50 | elapsed:  5.6min finished\n"
     ]
    },
    {
     "name": "stdout",
     "output_type": "stream",
     "text": [
      "Train SVM: 350.1984758377075 s\n",
      "Test SVM: 21.744431734085083 s\n",
      "Fitting 5 folds for each of 10 candidates, totalling 50 fits\n"
     ]
    },
    {
     "name": "stderr",
     "output_type": "stream",
     "text": [
      "[Parallel(n_jobs=-1)]: Using backend LokyBackend with 4 concurrent workers.\n",
      "[Parallel(n_jobs=-1)]: Done  10 tasks      | elapsed:  1.2min\n",
      "[Parallel(n_jobs=-1)]: Done  50 out of  50 | elapsed:  5.6min finished\n"
     ]
    },
    {
     "name": "stdout",
     "output_type": "stream",
     "text": [
      "Train SVM: 351.5910189151764 s\n",
      "Test SVM: 22.363191843032837 s\n",
      "Fitting 5 folds for each of 10 candidates, totalling 50 fits\n"
     ]
    },
    {
     "name": "stderr",
     "output_type": "stream",
     "text": [
      "[Parallel(n_jobs=-1)]: Using backend LokyBackend with 4 concurrent workers.\n",
      "[Parallel(n_jobs=-1)]: Done  10 tasks      | elapsed:  1.3min\n",
      "[Parallel(n_jobs=-1)]: Done  50 out of  50 | elapsed:  5.8min finished\n"
     ]
    },
    {
     "name": "stdout",
     "output_type": "stream",
     "text": [
      "Train SVM: 364.8513000011444 s\n",
      "Test SVM: 22.740920066833496 s\n",
      "Fitting 5 folds for each of 10 candidates, totalling 50 fits\n"
     ]
    },
    {
     "name": "stderr",
     "output_type": "stream",
     "text": [
      "[Parallel(n_jobs=-1)]: Using backend LokyBackend with 4 concurrent workers.\n",
      "[Parallel(n_jobs=-1)]: Done  10 tasks      | elapsed:  1.4min\n",
      "[Parallel(n_jobs=-1)]: Done  50 out of  50 | elapsed:  6.0min finished\n"
     ]
    },
    {
     "name": "stdout",
     "output_type": "stream",
     "text": [
      "Train SVM: 373.90798473358154 s\n",
      "Test SVM: 22.277430772781372 s\n"
     ]
    }
   ],
   "source": [
    "DenseSIFT = DenseSIFT_()\n",
    "scaler = StandardScaler()\n",
    "VisualWords = VisualWords_(N_CLUSTERS)\n",
    "train_desc_path = SAVE_PATH+'desc'+os.sep+'train_exp_2.dat'\n",
    "test_desc_path = SAVE_PATH+'desc'+os.sep+'test_exp_2.dat'\n",
    "train_data_path = SAVE_PATH+'data'+os.sep+'train_exp_2.dat'\n",
    "test_data_path = SAVE_PATH+'data'+os.sep+'test_exp_2.dat'\n",
    "with CodeTimer(\"Obtain training and test data\"):\n",
    "    # Check for existing data files already computed\n",
    "    if all(os.path.isfile(path) for path in [train_data_path, test_data_path, train_desc_path, test_desc_path]):\n",
    "        train_data = pickle.load(open(train_data_path, 'rb'))\n",
    "        test_data = pickle.load(open(test_data_path, 'rb'))\n",
    "        train_desc = pickle.load(open(train_data_path, 'rb'))\n",
    "        test_desc = pickle.load(open(test_data_path, 'rb'))\n",
    "        train_data = scaler.fit_transform(train_data)\n",
    "        test_data = scaler.transform(test_data)\n",
    "    else:\n",
    "        # Compute DenseSIFT descriptors for train and test sets\n",
    "        train_desc = DenseSIFT.compute(train_img_paths, STEP_SIZE, DESC_SIZE)\n",
    "        test_desc = DenseSIFT.compute(test_img_paths, STEP_SIZE, DESC_SIZE)\n",
    "        # Save computed data\n",
    "        pickle.dump(train_desc, open(train_desc_path, 'wb'))\n",
    "        pickle.dump(test_desc, open(test_desc_path, 'wb'))\n",
    "        # Obtain visual words for train and test sets\n",
    "        VisualWords.fit(train_desc)\n",
    "        train_data = VisualWords.get_visual_words(train_desc)\n",
    "        test_data = VisualWords.get_visual_words(test_desc)\n",
    "        # Save computed data\n",
    "        pickle.dump(train_data, open(train_data_path, 'wb'))\n",
    "        pickle.dump(test_data, open(test_data_path, 'wb'))\n",
    "\n",
    "results_train = []\n",
    "results_test = []\n",
    "C = np.logspace(-4,4,15,base=10).tolist()\n",
    "GAMMA = ['scale']\n",
    "KERNEL = [histogram_intersection_kernel]\n",
    "TOL = [1e-3]\n",
    "for c in C:\n",
    "    # Normalize data\n",
    "    train_data_norm = Normalizer.normalize(train_data, 'l1')\n",
    "    test_data_norm = Normalizer.normalize(test_data, 'l1')\n",
    "    # Scale data\n",
    "    train_data_norm = scaler.fit_transform(train_data_norm)\n",
    "    test_data_norm = scaler.transform(test_data_norm)\n",
    "    PARAMETERS = {'C':[c],'gamma':GAMMA,'kernel':KERNEL,'tol': TOLERANCE}\n",
    "    # Train SVM with cross-validation 5-fold\n",
    "    with CodeTimer(\"Train SVM\"):\n",
    "        cv = GridSearchCV(SVC(), param_grid=PARAMETERS, cv=K_FOLDS, verbose=5, n_jobs=-1)\n",
    "        cv.fit(train_data_norm, train_labels)\n",
    "    # Test SVM\n",
    "    with CodeTimer(\"Test SVM\"):\n",
    "        results_train.append(cv.score(train_data_norm, train_labels)) \n",
    "        results_test.append(cv.score(test_data_norm, test_labels)) "
   ]
  },
  {
   "cell_type": "code",
   "execution_count": 23,
   "metadata": {},
   "outputs": [
    {
     "data": {
      "image/png": "[encoded data removed]",
      "text/plain": [
       "<Figure size 576x360 with 1 Axes>"
      ]
     },
     "metadata": {
      "needs_background": "light"
     },
     "output_type": "display_data"
    }
   ],
   "source": [
    "KERNEL = [\"linear\", \"rbf\", \"sigmoid\", \"hist_intersection\"]\n",
    "plt.figure(figsize=(8, 5))\n",
    "plt.title('Results from different kernels.')\n",
    "plt.plot(KERNEL,results_train,'b',linewidth=2,label='Test')\n",
    "plt.plot(KERNEL,results_test,'r',linewidth=2,label='Train')\n",
    "plt.ylabel('Accuracy')\n",
    "plt.xlabel('Kernels Used')\n",
    "plt.grid(True)\n",
    "plt.show()"
   ]
  },
  {
   "cell_type": "code",
   "execution_count": 27,
   "metadata": {},
   "outputs": [
    {
     "data": {
      "image/png": "[encoded data removed]",
      "text/plain": [
       "<Figure size 576x360 with 1 Axes>"
      ]
     },
     "metadata": {
      "needs_background": "light"
     },
     "output_type": "display_data"
    }
   ],
   "source": [
    "plt.figure(figsize=(8, 5))\n",
    "plt.title('Results from varying Regularizer. Using Sigmoid')\n",
    "plt.plot(C,results_train,'b',linewidth=2,label='Test')\n",
    "plt.plot(C,results_test,'r',linewidth=2,label='Train')\n",
    "plt.xscale('log',basex=10)\n",
    "plt.ylabel('Accuracy')\n",
    "plt.xlabel('Value C')\n",
    "plt.grid(True)\n",
    "plt.show()"
   ]
  },
  {
   "cell_type": "code",
   "execution_count": 29,
   "metadata": {},
   "outputs": [
    {
     "data": {
      "image/png": "[encoded data removed]",
      "text/plain": [
       "<Figure size 576x360 with 1 Axes>"
      ]
     },
     "metadata": {
      "needs_background": "light"
     },
     "output_type": "display_data"
    }
   ],
   "source": [
    "plt.figure(figsize=(8, 5))\n",
    "plt.title('Results from varying Regularizer. Using Histogram Intersection')\n",
    "plt.plot(C,results_train,'b',linewidth=2,label='Test')\n",
    "plt.plot(C,results_test,'r',linewidth=2,label='Train')\n",
    "plt.xscale('log',basex=10)\n",
    "plt.ylabel('Accuracy')\n",
    "plt.xlabel('Value C')\n",
    "plt.grid(True)\n",
    "plt.show()"
   ]
  },
  {
   "cell_type": "code",
   "execution_count": 69,
   "metadata": {},
   "outputs": [
    {
     "data": {
      "image/png": "[encoded data removed]",
      "text/plain": [
       "<Figure size 576x360 with 1 Axes>"
      ]
     },
     "metadata": {
      "needs_background": "light"
     },
     "output_type": "display_data"
    }
   ],
   "source": [
    "plt.figure(figsize=(8, 5))\n",
    "plt.title('Results from different number of clusters.')\n",
    "plt.plot(C,results_train,'b',linewidth=2,label='Test')\n",
    "plt.plot(C,results_test,'r',linewidth=2,label='Train')\n",
    "plt.xscale('log',basex=10)\n",
    "plt.ylabel('Accuracy')\n",
    "plt.xlabel('Number of Clusters/Size of Vocabulary')\n",
    "plt.grid(True)\n",
    "plt.show()"
   ]
  },
  {
   "cell_type": "markdown",
   "metadata": {},
   "source": [
    "Conclusions:\n",
    "\n"
   ]
  },
  {
   "cell_type": "markdown",
   "metadata": {},
   "source": [
    "Pyramid\n",
    "--"
   ]
  },
  {
   "cell_type": "markdown",
   "metadata": {},
   "source": [
    "BLABLACAR"
   ]
  },
  {
   "cell_type": "code",
   "execution_count": null,
   "metadata": {},
   "outputs": [],
   "source": [
    "#codi pyramid"
   ]
  },
  {
   "cell_type": "markdown",
   "metadata": {},
   "source": [
    "conclusions"
   ]
  },
  {
   "cell_type": "markdown",
   "metadata": {},
   "source": [
    "FISHER\n",
    "--"
   ]
  },
  {
   "cell_type": "markdown",
   "metadata": {},
   "source": [
    "BLABLACAR"
   ]
  },
  {
   "cell_type": "code",
   "execution_count": null,
   "metadata": {},
   "outputs": [],
   "source": [
    "#code fisher"
   ]
  },
  {
   "cell_type": "code",
   "execution_count": null,
   "metadata": {},
   "outputs": [],
   "source": [
    "conclusions"
   ]
  },
  {
   "cell_type": "markdown",
   "metadata": {},
   "source": [
    "FINAL RESULTS\n",
    "--"
   ]
  },
  {
   "cell_type": "markdown",
   "metadata": {},
   "source": [
    "SUMMARY"
   ]
  },
  {
   "cell_type": "code",
   "execution_count": null,
   "metadata": {},
   "outputs": [],
   "source": [
    "#code final"
   ]
  },
  {
   "cell_type": "markdown",
   "metadata": {},
   "source": [
    "Conclusions"
   ]
  }
 ],
 "metadata": {
  "kernelspec": {
   "display_name": "Python 3",
   "language": "python",
   "name": "python3"
  },
  "language_info": {
   "codemirror_mode": {
    "name": "ipython",
    "version": 3
   },
   "file_extension": ".py",
   "mimetype": "text/x-python",
   "name": "python",
   "nbconvert_exporter": "python",
   "pygments_lexer": "ipython3",
   "version": "3.7.4"
  }
 },
 "nbformat": 4,
 "nbformat_minor": 4
}
