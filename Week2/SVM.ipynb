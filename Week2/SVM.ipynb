{
 "cells": [
  {
   "cell_type": "markdown",
   "metadata": {},
   "source": [
    "M3. Improve BoVW with SVM's\n",
    "--"
   ]
  },
  {
   "cell_type": "code",
   "execution_count": 7,
   "metadata": {},
   "outputs": [],
   "source": [
    "import numpy as np\n",
    "import pickle\n",
    "import os\n",
    "\n",
    "import matplotlib.pyplot as plt\n",
    "%matplotlib inline\n",
    "from sklearn.model_selection import GridSearchCV\n",
    "from sklearn.svm import SVC\n",
    "\n",
    "from utils.CodeTimer import CodeTimer\n",
    "from utils.DatasetManager import DatasetManager\n",
    "from descriptors.SIFT import DenseSIFT as DenseSIFT_\n",
    "from descriptors.VisualWords import VisualWords as VisualWords_\n",
    "from utils.Kernels import histogram_intersection_kernel"
   ]
  },
  {
   "cell_type": "markdown",
   "metadata": {},
   "source": [
    "From previous week, we found that using the following parameters we obtained a precision for the test around 81.16%.\n",
    "\n",
    "   1. Vocabulary of 128\n",
    "   2. Bray Curtis Distance\n",
    "   3. Dense Sift using 8 as the step and the size of the keypoints.\n",
    "   4. Use LDA with 7 features.\n",
    "   \n",
    "This week we will try to increase this precision by using SVM.\n",
    "\n",
    "First of all, a suggestion from last activity was to mix different scales of the DenseSIFT descriptors. We tried to change the steps and the sizes a bit but selecting the same number for the step and size gave us in the end the best result. "
   ]
  },
  {
   "cell_type": "code",
   "execution_count": 2,
   "metadata": {},
   "outputs": [],
   "source": [
    "dataset = DatasetManager('../Databases/MIT_split')\n",
    "train_img_paths, train_labels, test_img_paths, test_labels = dataset.load_dataset()\n",
    "SAVE_PATH = '../SavePath/'"
   ]
  },
  {
   "cell_type": "markdown",
   "metadata": {},
   "source": [
    "Change the size of the DenseSIFT\n",
    "--"
   ]
  },
  {
   "cell_type": "markdown",
   "metadata": {},
   "source": [
    "In this experiment we will fix the vocabulary size, and we will only change the step and try different sizes of the DenseSIFT descriptors. In addition we will substitute the KNN with a SVM. We will also eliminate the LDA. "
   ]
  },
  {
   "cell_type": "code",
   "execution_count": 3,
   "metadata": {},
   "outputs": [],
   "source": [
    "N_CLUSTERS = 128\n",
    "K_FOLDS = 5\n",
    "param_grid = {'C': [1], 'kernel': ['rbf'], 'gamma': ['scale']}"
   ]
  },
  {
   "cell_type": "code",
   "execution_count": 6,
   "metadata": {},
   "outputs": [
    {
     "name": "stdout",
     "output_type": "stream",
     "text": [
      "Train SVM: 2.523352861404419 s\n",
      "Test SVM: 0.18150997161865234 s\n",
      "Obtain training and test data: 306.0814678668976 s\n",
      "Train SVM: 2.12414288520813 s\n",
      "Test SVM: 0.18492579460144043 s\n",
      "Obtain training and test data: 176.2810640335083 s\n",
      "Train SVM: 1.9751551151275635 s\n",
      "Test SVM: 0.15711688995361328 s\n",
      "Obtain training and test data: 216.36603903770447 s\n",
      "Train SVM: 2.1164751052856445 s\n",
      "Test SVM: 0.17260003089904785 s\n",
      "Obtain training and test data: 314.469685792923 s\n",
      "Train SVM: 1.8273940086364746 s\n",
      "Test SVM: 0.1612539291381836 s\n",
      "Obtain training and test data: 111.42421984672546 s\n",
      "Train SVM: 2.0699920654296875 s\n",
      "Test SVM: 0.1585249900817871 s\n",
      "Obtain training and test data: 145.2274830341339 s\n",
      "Train SVM: 1.9113810062408447 s\n",
      "Test SVM: 0.15057086944580078 s\n",
      "Obtain training and test data: 218.12727189064026 s\n",
      "Train SVM: 1.8377351760864258 s\n",
      "Test SVM: 0.16202020645141602 s\n"
     ]
    }
   ],
   "source": [
    "step_sizes = [8, 16, 32]\n",
    "descriptor_sizes_dict = {8: [[1],[0.5,1]], 16: [[1],[0.5,1],[0.25,0.5,0.75,1]], 32: [[1],[0.5,1],[0.25,0.5,0.75,1]]}\n",
    "results_test = []\n",
    "results_train = []\n",
    "\n",
    "DenseSIFT = DenseSIFT_()\n",
    "VisualWords = VisualWords_(N_CLUSTERS)\n",
    "for step_size in step_sizes:\n",
    "    for descriptor_sizes_ in descriptor_sizes_dict[step_size]:\n",
    "        # Define descriptor sizes\n",
    "        descriptor_sizes = sorted(list(set([int(i*step_size) for i in descriptor_sizes_])))\n",
    "        train_desc_path = SAVE_PATH+'desc'+os.sep+'train'+str(N_CLUSTERS)+'_'+str(step_size)+'_'+'-'.join([str(i) for i in descriptor_sizes])+'.dat'\n",
    "        test_desc_path = SAVE_PATH+'desc'+os.sep+'test'+str(N_CLUSTERS)+'_'+str(step_size)+'_'+'-'.join([str(i) for i in descriptor_sizes])+'.dat'\n",
    "        train_data_path = SAVE_PATH+'data'+os.sep+'train'+str(N_CLUSTERS)+'_'+str(step_size)+'_'+'-'.join([str(i) for i in descriptor_sizes])+'.dat'\n",
    "        test_data_path = SAVE_PATH+'data'+os.sep+'test'+str(N_CLUSTERS)+'_'+str(step_size)+'_'+'-'.join([str(i) for i in descriptor_sizes])+'.dat'\n",
    "        if all(os.path.isfile(path) for path in [train_desc_path,test_desc_path,train_data_path,test_data_path]):\n",
    "            train_descriptors = pickle.load(open(train_desc_path, 'rb'))\n",
    "            test_descriptors = pickle.load(open(test_desc_path,'rb'))\n",
    "            train_data = pickle.load(open(train_data_path,'rb'))\n",
    "            test_data = pickle.load(open(test_data_path,'rb'))\n",
    "        else:\n",
    "            with CodeTimer(\"Obtain training and test data\"):\n",
    "                # Compute DenseSIFT descriptors for train and test sets\n",
    "                train_descriptors = DenseSIFT.compute(train_img_paths, step_size, descriptor_sizes)\n",
    "                test_descriptors = DenseSIFT.compute(test_img_paths, step_size, descriptor_sizes)\n",
    "                # Save computed data\n",
    "                pickle.dump(train_descriptors, open(train_desc_path, 'wb'))\n",
    "                pickle.dump(test_descriptors, open(test_desc_path, 'wb'))\n",
    "                # Obtain visual words for train and test sets\n",
    "                VisualWords.fit(train_descriptors)\n",
    "                train_data = VisualWords.get_visual_words(train_descriptors)\n",
    "                test_data = VisualWords.get_visual_words(test_descriptors)\n",
    "                # Save computed data\n",
    "                pickle.dump(train_data, open(train_data_path, 'wb'))\n",
    "                pickle.dump(test_data, open(test_data_path, 'wb'))\n",
    "                # Train SVM with cross-validation 5-fold\n",
    "        with CodeTimer(\"Train SVM\"):\n",
    "            cv = GridSearchCV(SVC(), param_grid=param_grid, cv=K_FOLDS)\n",
    "            cv.fit(train_data, train_labels)\n",
    "        # Test SVM\n",
    "        with CodeTimer(\"Test SVM\"):\n",
    "            results_train.append(cv.score(train_data, train_labels))\n",
    "            results_test.append(cv.score(test_data, test_labels))"
   ]
  },
  {
   "cell_type": "code",
   "execution_count": 27,
   "metadata": {},
   "outputs": [
    {
     "data": {
      "image/png": "[encoded data removed]",
      "text/plain": [
       "<Figure size 576x360 with 1 Axes>"
      ]
     },
     "metadata": {
      "needs_background": "light"
     },
     "output_type": "display_data"
    }
   ],
   "source": [
    "plt.figure(figsize=(8, 5))\n",
    "plt.title('Results from different steps and scales of the descriptors')\n",
    "plt.plot(results_train,'b',linewidth=2,label='Train')\n",
    "plt.plot(results_test,'r',linewidth=2,label='Test')\n",
    "plt.ylabel('Accuracy')\n",
    "plt.xlabel('Different Step and Scale for DenseSIFT')\n",
    "plt.legend()\n",
    "plt.grid(True)\n",
    "plt.show()"
   ]
  },
  {
   "cell_type": "markdown",
   "metadata": {},
   "source": [
    "To explain this graph we have tried for different step sizes different sizes. So for the steps we have tried 8,16 and 32. Then for each one we have tried the scales to be first the same as the step, then adding $\\frac{step}{2}$ and finally adding $\\frac{3 \\cdot step}{4}$ and $\\frac{step}{4}$.  \n",
    "\n",
    "We present here the X Axis:\n",
    "\n",
    "0. Step: 8 -- Scales: 8\n",
    "1. Step: 8 -- Scales: 4-8\n",
    "2. Step: 16 -- Scales: 16\n",
    "3. Step: 16 -- Scales: 8-16\n",
    "4. Step: 16 -- Scales: 4-8-12-16\n",
    "5. Step: 32 -- Scales: 32\n",
    "6. Step: 32 -- Scales: 16-32\n",
    "7. Step: 32 -- Scales: 8-16-24-32\n",
    "\n",
    "Conclusion: \n",
    "\n",
    "As the graph shows using small step size generally works better than taking big step sizes. Then taking different scales we see that tends to improve the results. For computation cost we have decided to use a step size of 16 and scales of 8 and 16 for our descriptors.\n",
    "\n",
    "We also see a consistent difference between the train accuracy and the test accuracy, which seems to us that could be reduced when taking into account the regularization parameter of the SVM."
   ]
  },
  {
   "cell_type": "markdown",
   "metadata": {},
   "source": [
    "Change the number of Clusters or the Vocabulary size\n",
    "--"
   ]
  },
  {
   "cell_type": "markdown",
   "metadata": {},
   "source": [
    "For this experiment now we will try different number of clusters"
   ]
  },
  {
   "cell_type": "code",
   "execution_count": 17,
   "metadata": {},
   "outputs": [],
   "source": [
    "STEP_SIZE = 16\n",
    "DESC_SIZE = [0.5,1]"
   ]
  },
  {
   "cell_type": "code",
   "execution_count": 19,
   "metadata": {},
   "outputs": [
    {
     "name": "stdout",
     "output_type": "stream",
     "text": [
      "Obtain training and test data: 40.542662143707275 s\n",
      "Train SVM: 2.670769214630127 s\n",
      "Test SVM: 0.20858502388000488 s\n",
      "Obtain training and test data: 53.31530809402466 s\n",
      "Train SVM: 5.075722932815552 s\n",
      "Test SVM: 0.4352397918701172 s\n",
      "Obtain training and test data: 72.8689751625061 s\n",
      "Train SVM: 7.793022871017456 s\n",
      "Test SVM: 0.6836180686950684 s\n",
      "Obtain training and test data: 117.54529309272766 s\n",
      "Train SVM: 10.785996198654175 s\n",
      "Test SVM: 0.8818421363830566 s\n",
      "Obtain training and test data: 183.32933926582336 s\n",
      "Train SVM: 13.98125410079956 s\n",
      "Test SVM: 1.1225290298461914 s\n",
      "Obtain training and test data: 243.6653392314911 s\n",
      "Train SVM: 17.40980315208435 s\n",
      "Test SVM: 1.5564053058624268 s\n",
      "Obtain training and test data: 300.5999069213867 s\n",
      "Train SVM: 20.803389072418213 s\n",
      "Test SVM: 1.5164148807525635 s\n",
      "Obtain training and test data: 355.8561749458313 s\n",
      "Train SVM: 24.697921991348267 s\n",
      "Test SVM: 1.8541321754455566 s\n"
     ]
    }
   ],
   "source": [
    "N_CLUSTERS = [128, 256, 384, 512, 640, 768, 896, 1024]\n",
    "results_test = []\n",
    "results_train = []\n",
    "\n",
    "DenseSIFT = DenseSIFT_()\n",
    "for n_cluster in N_CLUSTERS:\n",
    "    VisualWords = VisualWords_(n_cluster)\n",
    "    train_desc_path = SAVE_PATH+'desc'+os.sep+'train'+str(n_cluster)+'_'+str(STEP_SIZE)+'_8-16.dat'\n",
    "    test_desc_path = SAVE_PATH+'desc'+os.sep+'test'+str(n_cluster)+'_'+str(STEP_SIZE)+'_8-16.dat'\n",
    "    train_data_path = SAVE_PATH+'data'+os.sep+'train'+str(n_cluster)+'_'+str(STEP_SIZE)+'_8-16.dat'\n",
    "    test_data_path = SAVE_PATH+'data'+os.sep+'test'+str(n_cluster)+'_'+str(STEP_SIZE)+'_8-16.dat'\n",
    "    if all(os.path.isfile(path) for path in [train_desc_path,test_desc_path,train_data_path,test_data_path]):\n",
    "        train_descriptors = pickle.load(open(train_desc_path, 'rb'))\n",
    "        test_descriptors = pickle.load(open(test_desc_path,'rb'))\n",
    "        train_data = pickle.load(open(train_data_path,'rb'))\n",
    "        test_data = pickle.load(open(test_data_path,'rb'))\n",
    "    else:\n",
    "        with CodeTimer(\"Obtain training and test data\"):\n",
    "            # Compute DenseSIFT descriptors for train and test sets\n",
    "            train_descriptors = DenseSIFT.compute(train_img_paths, STEP_SIZE, DESC_SIZE)\n",
    "            test_descriptors = DenseSIFT.compute(test_img_paths, STEP_SIZE, DESC_SIZE)\n",
    "            # Save computed data\n",
    "            pickle.dump(train_descriptors, open(train_desc_path, 'wb'))\n",
    "            pickle.dump(test_descriptors, open(test_desc_path, 'wb'))\n",
    "            # Obtain visual words for train and test sets\n",
    "            VisualWords.fit(train_descriptors)\n",
    "            train_data = VisualWords.get_visual_words(train_descriptors)\n",
    "            test_data = VisualWords.get_visual_words(test_descriptors)\n",
    "            # Save computed data\n",
    "            pickle.dump(train_data, open(train_data_path, 'wb'))\n",
    "            pickle.dump(test_data, open(test_data_path, 'wb'))\n",
    "            # Train SVM with cross-validation 5-fold\n",
    "    with CodeTimer(\"Train SVM\"):\n",
    "        cv = GridSearchCV(SVC(), param_grid=param_grid, cv=K_FOLDS)\n",
    "        cv.fit(train_data, train_labels)\n",
    "    # Test SVM\n",
    "    with CodeTimer(\"Test SVM\"):\n",
    "        results_train.append(cv.score(train_data, train_labels)) \n",
    "        results_test.append(cv.score(test_data, test_labels)) "
   ]
  },
  {
   "cell_type": "code",
   "execution_count": 29,
   "metadata": {},
   "outputs": [
    {
     "data": {
      "image/png": "[encoded data removed]",
      "text/plain": [
       "<Figure size 576x360 with 1 Axes>"
      ]
     },
     "metadata": {
      "needs_background": "light"
     },
     "output_type": "display_data"
    }
   ],
   "source": [
    "plt.figure(figsize=(8, 5))\n",
    "plt.title('Results from different number of clusters.')\n",
    "plt.plot(N_CLUSTERS,results_train,'b',linewidth=2,label='Test')\n",
    "plt.plot(N_CLUSTERS,results_test,'r',linewidth=2,label='Train')\n",
    "plt.ylabel('Accuracy')\n",
    "plt.xlabel('Number of Clusters/Size of Vocabulary')\n",
    "plt.grid(True)\n",
    "plt.show()"
   ]
  },
  {
   "cell_type": "markdown",
   "metadata": {},
   "source": [
    "Conclusion:\n",
    "    \n",
    "In this graph we can appreciate that using now more clusters helps the SVM to increase the accuracy from 81.16% to more than 86.5% which is great. Until this point we have been using the default parameters of the SVM which are:\n",
    "\n",
    "1. C -- (Regularization parameter): 1\n",
    "2. kernel -- (Specifies the kernel): RBF\n",
    "3. gamma -- (Kernel coefficient): scale\n",
    "5. decision_function_shape -- (Whether to return a one-vs-rest or other settings): ovr"
   ]
  }
 ],
 "metadata": {
  "kernelspec": {
   "display_name": "Python 3",
   "language": "python",
   "name": "python3"
  },
  "language_info": {
   "codemirror_mode": {
    "name": "ipython",
    "version": 3
   },
   "file_extension": ".py",
   "mimetype": "text/x-python",
   "name": "python",
   "nbconvert_exporter": "python",
   "pygments_lexer": "ipython3",
   "version": "3.7.4"
  }
 },
 "nbformat": 4,
 "nbformat_minor": 4
}
