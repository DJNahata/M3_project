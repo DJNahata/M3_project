{
 "cells": [
  {
   "cell_type": "markdown",
   "metadata": {},
   "source": [
    "M3. Improve BoVW with SVM's\n",
    "--"
   ]
  },
  {
   "cell_type": "code",
   "execution_count": 1,
   "metadata": {},
   "outputs": [],
   "source": [
    "import numpy as np\n",
    "import pickle\n",
    "import os\n",
    "\n",
    "import matplotlib.pyplot as plt\n",
    "%matplotlib inline\n",
    "from sklearn.model_selection import GridSearchCV\n",
    "from sklearn.svm import SVC\n",
    "from sklearn.preprocessing import StandardScaler\n",
    "\n",
    "from utils.CodeTimer import CodeTimer\n",
    "from utils.DatasetManager import DatasetManager\n",
    "from utils.Normalizer import Normalizer as Normalizer_\n",
    "from descriptors.SIFT import DenseSIFT as DenseSIFT_\n",
    "from descriptors.SIFT import DenseSIFTPyramid \n",
    "from descriptors.VisualWords import VisualWords as VisualWords_\n",
    "from descriptors.VisualWords import VisualWordsPyramid \n",
    "from utils.Kernels import histogram_intersection_kernel\n",
    "from fishervector import FisherVectorGMM"
   ]
  },
  {
   "cell_type": "markdown",
   "metadata": {},
   "source": [
    "From previous week, we found that using the following parameters we obtained a precision for the test around 81.16%.\n",
    "\n",
    "   1. Vocabulary of 128\n",
    "   2. Bray Curtis Distance\n",
    "   3. Dense Sift using 8 as the step and the size of the keypoints.\n",
    "   4. Use LDA with 7 features.\n",
    "   \n",
    "This week we will try to increase this precision by using SVM. To do so we will study the following\n",
    "\n",
    "   1. First of all, a suggestion from last activity was to mix different scales of the DenseSIFT descriptors. We tried to change the steps and the sizes a bit but selecting the same number for the step and size gave us in the end the best result. \n",
    "   \n",
    "   2. Change the Vocabulary size or also known as number of clusters of the VisualWords.\n",
    "   3. See how Normalization affects the results.\n",
    "   4. Finetuning the SVM\n",
    "   5. See if using a pyramid strategy improves the previous results\n",
    "   6. Trying Fisher Vectors"
   ]
  },
  {
   "cell_type": "code",
   "execution_count": 2,
   "metadata": {},
   "outputs": [],
   "source": [
    "dataset = DatasetManager('../Databases/MIT_split')\n",
    "train_img_paths, train_labels, test_img_paths, test_labels = dataset.load_dataset()\n",
    "SAVE_PATH = '../SavePath/'"
   ]
  },
  {
   "cell_type": "code",
   "execution_count": 11,
   "metadata": {},
   "outputs": [
    {
     "name": "stdout",
     "output_type": "stream",
     "text": [
      "1881\n"
     ]
    }
   ],
   "source": [
    "print(len(train_desc))"
   ]
  },
  {
   "cell_type": "markdown",
   "metadata": {},
   "source": [
    "Change the size of the DenseSIFT\n",
    "--"
   ]
  },
  {
   "cell_type": "markdown",
   "metadata": {},
   "source": [
    "In this experiment we will fix the vocabulary size, and we will only change the step and try different sizes of the DenseSIFT descriptors. In addition we will substitute the KNN with a SVM. We will also eliminate the LDA. "
   ]
  },
  {
   "cell_type": "code",
   "execution_count": 6,
   "metadata": {},
   "outputs": [
    {
     "name": "stdout",
     "output_type": "stream",
     "text": [
      "Train SVM: 2.523352861404419 s\n",
      "Test SVM: 0.18150997161865234 s\n",
      "Obtain training and test data: 306.0814678668976 s\n",
      "Train SVM: 2.12414288520813 s\n",
      "Test SVM: 0.18492579460144043 s\n",
      "Obtain training and test data: 176.2810640335083 s\n",
      "Train SVM: 1.9751551151275635 s\n",
      "Test SVM: 0.15711688995361328 s\n",
      "Obtain training and test data: 216.36603903770447 s\n",
      "Train SVM: 2.1164751052856445 s\n",
      "Test SVM: 0.17260003089904785 s\n",
      "Obtain training and test data: 314.469685792923 s\n",
      "Train SVM: 1.8273940086364746 s\n",
      "Test SVM: 0.1612539291381836 s\n",
      "Obtain training and test data: 111.42421984672546 s\n",
      "Train SVM: 2.0699920654296875 s\n",
      "Test SVM: 0.1585249900817871 s\n",
      "Obtain training and test data: 145.2274830341339 s\n",
      "Train SVM: 1.9113810062408447 s\n",
      "Test SVM: 0.15057086944580078 s\n",
      "Obtain training and test data: 218.12727189064026 s\n",
      "Train SVM: 1.8377351760864258 s\n",
      "Test SVM: 0.16202020645141602 s\n"
     ]
    }
   ],
   "source": [
    "N_CLUSTERS = 128\n",
    "K_FOLDS = 5\n",
    "PARAM_GRID = {'C': [1], 'kernel': ['rbf'], 'gamma': ['scale']}\n",
    "step_sizes = [8, 16, 32]\n",
    "descriptor_sizes_dict = {8: [[1],[0.5,1]], 16: [[1],[0.5,1],[0.25,0.5,0.75,1]], 32: [[1],[0.5,1],[0.25,0.5,0.75,1]]}\n",
    "results_test = []\n",
    "results_train = []\n",
    "\n",
    "DenseSIFT = DenseSIFT_()\n",
    "VisualWords = VisualWords_(N_CLUSTERS)\n",
    "for step_size in step_sizes:\n",
    "    for descriptor_sizes_ in descriptor_sizes_dict[step_size]:\n",
    "        # Define descriptor sizes\n",
    "        descriptor_sizes = sorted(list(set([int(i*step_size) for i in descriptor_sizes_])))\n",
    "        train_desc_path = SAVE_PATH+'desc'+os.sep+'train'+str(N_CLUSTERS)+'_'+str(step_size)+'_'+'-'.join([str(i) for i in descriptor_sizes])+'.dat'\n",
    "        test_desc_path = SAVE_PATH+'desc'+os.sep+'test'+str(N_CLUSTERS)+'_'+str(step_size)+'_'+'-'.join([str(i) for i in descriptor_sizes])+'.dat'\n",
    "        train_data_path = SAVE_PATH+'data'+os.sep+'train'+str(N_CLUSTERS)+'_'+str(step_size)+'_'+'-'.join([str(i) for i in descriptor_sizes])+'.dat'\n",
    "        test_data_path = SAVE_PATH+'data'+os.sep+'test'+str(N_CLUSTERS)+'_'+str(step_size)+'_'+'-'.join([str(i) for i in descriptor_sizes])+'.dat'\n",
    "        if all(os.path.isfile(path) for path in [train_desc_path,test_desc_path,train_data_path,test_data_path]):\n",
    "            train_desc = pickle.load(open(train_desc_path, 'rb'))\n",
    "            test_desc = pickle.load(open(test_desc_path,'rb'))\n",
    "            train_data = pickle.load(open(train_data_path,'rb'))\n",
    "            test_data = pickle.load(open(test_data_path,'rb'))\n",
    "        else:\n",
    "            with CodeTimer(\"Obtain training and test data\"):\n",
    "                # Compute DenseSIFT descriptors for train and test sets\n",
    "                train_desc = DenseSIFT.compute(train_img_paths, step_size, descriptor_sizes)\n",
    "                test_desc = DenseSIFT.compute(test_img_paths, step_size, descriptor_sizes)\n",
    "                # Save computed data\n",
    "                pickle.dump(train_desc, open(train_desc_path, 'wb'))\n",
    "                pickle.dump(test_desc, open(test_desc_path, 'wb'))\n",
    "                # Obtain visual words for train and test sets\n",
    "                VisualWords.fit(train_desc)\n",
    "                train_data = VisualWords.get_visual_words(train_desc)\n",
    "                test_data = VisualWords.get_visual_words(test_desc)\n",
    "                # Save computed data\n",
    "                pickle.dump(train_data, open(train_data_path, 'wb'))\n",
    "                pickle.dump(test_data, open(test_data_path, 'wb'))\n",
    "                # Train SVM with cross-validation 5-fold\n",
    "        with CodeTimer(\"Train SVM\"):\n",
    "            cv = GridSearchCV(SVC(), param_grid=PARAM_GRID, cv=K_FOLDS)\n",
    "            cv.fit(train_data, train_labels)\n",
    "        # Test SVM\n",
    "        with CodeTimer(\"Test SVM\"):\n",
    "            results_train.append(cv.score(train_data, train_labels))\n",
    "            results_test.append(cv.score(test_data, test_labels))"
   ]
  },
  {
   "cell_type": "code",
   "execution_count": 27,
   "metadata": {},
   "outputs": [
    {
     "data": {
      "image/png": "[encoded data removed]",
      "text/plain": [
       "<Figure size 576x360 with 1 Axes>"
      ]
     },
     "metadata": {
      "needs_background": "light"
     },
     "output_type": "display_data"
    }
   ],
   "source": [
    "plt.figure(figsize=(8, 5))\n",
    "plt.title('Results from different steps and scales of the descriptors')\n",
    "plt.plot(results_train,'b',linewidth=2,label='Train')\n",
    "plt.plot(results_test,'r',linewidth=2,label='Test')\n",
    "plt.ylabel('Accuracy')\n",
    "plt.xlabel('Different Step and Scale for DenseSIFT')\n",
    "plt.legend()\n",
    "plt.grid(True)\n",
    "plt.show()"
   ]
  },
  {
   "cell_type": "markdown",
   "metadata": {},
   "source": [
    "To explain this graph we have tried for different step sizes different sizes. So for the steps we have tried 8,16 and 32. Then for each one we have tried the scales to be first the same as the step, then adding $\\frac{step}{2}$ and finally adding $\\frac{3 \\cdot step}{4}$ and $\\frac{step}{4}$.  \n",
    "\n",
    "We present here the X Axis:\n",
    "\n",
    "0. Step: 8 -- Scales: 8\n",
    "1. Step: 8 -- Scales: 4-8\n",
    "2. Step: 16 -- Scales: 16\n",
    "3. Step: 16 -- Scales: 8-16\n",
    "4. Step: 16 -- Scales: 4-8-12-16\n",
    "5. Step: 32 -- Scales: 32\n",
    "6. Step: 32 -- Scales: 16-32\n",
    "7. Step: 32 -- Scales: 8-16-24-32\n",
    "\n",
    "Conclusion: \n",
    "\n",
    "As the graph shows using small step size generally works better than taking big step sizes. Then taking different scales we see that tends to improve the results. For computation cost we have decided to use a step size of 16 and scales of 8 and 16 for our descriptors.\n",
    "\n",
    "We also see a consistent difference between the train accuracy and the test accuracy, which seems to us that could be reduced when taking into account the regularization parameter of the SVM."
   ]
  },
  {
   "cell_type": "markdown",
   "metadata": {},
   "source": [
    "Change the number of Clusters or the Vocabulary size\n",
    "--"
   ]
  },
  {
   "cell_type": "markdown",
   "metadata": {},
   "source": [
    "For this experiment now we will try different number of clusters"
   ]
  },
  {
   "cell_type": "code",
   "execution_count": 19,
   "metadata": {},
   "outputs": [
    {
     "name": "stdout",
     "output_type": "stream",
     "text": [
      "Obtain training and test data: 40.542662143707275 s\n",
      "Train SVM: 2.670769214630127 s\n",
      "Test SVM: 0.20858502388000488 s\n",
      "Obtain training and test data: 53.31530809402466 s\n",
      "Train SVM: 5.075722932815552 s\n",
      "Test SVM: 0.4352397918701172 s\n",
      "Obtain training and test data: 72.8689751625061 s\n",
      "Train SVM: 7.793022871017456 s\n",
      "Test SVM: 0.6836180686950684 s\n",
      "Obtain training and test data: 117.54529309272766 s\n",
      "Train SVM: 10.785996198654175 s\n",
      "Test SVM: 0.8818421363830566 s\n",
      "Obtain training and test data: 183.32933926582336 s\n",
      "Train SVM: 13.98125410079956 s\n",
      "Test SVM: 1.1225290298461914 s\n",
      "Obtain training and test data: 243.6653392314911 s\n",
      "Train SVM: 17.40980315208435 s\n",
      "Test SVM: 1.5564053058624268 s\n",
      "Obtain training and test data: 300.5999069213867 s\n",
      "Train SVM: 20.803389072418213 s\n",
      "Test SVM: 1.5164148807525635 s\n",
      "Obtain training and test data: 355.8561749458313 s\n",
      "Train SVM: 24.697921991348267 s\n",
      "Test SVM: 1.8541321754455566 s\n"
     ]
    }
   ],
   "source": [
    "STEP_SIZE = 16\n",
    "DESC_SIZE = [8,16]\n",
    "N_CLUSTERS = [128, 256, 384, 512, 640, 768, 896, 1024]\n",
    "results_test = []\n",
    "results_train = []\n",
    "\n",
    "DenseSIFT = DenseSIFT_()\n",
    "for n_cluster in N_CLUSTERS:\n",
    "    VisualWords = VisualWords_(n_cluster)\n",
    "    train_desc_path = SAVE_PATH+'desc'+os.sep+'train'+str(n_cluster)+'_'+str(STEP_SIZE)+'_8-16.dat'\n",
    "    test_desc_path = SAVE_PATH+'desc'+os.sep+'test'+str(n_cluster)+'_'+str(STEP_SIZE)+'_8-16.dat'\n",
    "    train_data_path = SAVE_PATH+'data'+os.sep+'train'+str(n_cluster)+'_'+str(STEP_SIZE)+'_8-16.dat'\n",
    "    test_data_path = SAVE_PATH+'data'+os.sep+'test'+str(n_cluster)+'_'+str(STEP_SIZE)+'_8-16.dat'\n",
    "    if all(os.path.isfile(path) for path in [train_desc_path,test_desc_path,train_data_path,test_data_path]):\n",
    "        train_desc = pickle.load(open(train_desc_path, 'rb'))\n",
    "        test_desc = pickle.load(open(test_desc_path,'rb'))\n",
    "        train_data = pickle.load(open(train_data_path,'rb'))\n",
    "        test_data = pickle.load(open(test_data_path,'rb'))\n",
    "    else:\n",
    "        with CodeTimer(\"Obtain training and test data\"):\n",
    "            # Compute DenseSIFT descriptors for train and test sets\n",
    "            train_desc = DenseSIFT.compute(train_img_paths, STEP_SIZE, DESC_SIZE)\n",
    "            test_desc = DenseSIFT.compute(test_img_paths, STEP_SIZE, DESC_SIZE)\n",
    "            # Save computed data\n",
    "            pickle.dump(train_desc, open(train_desc_path, 'wb'))\n",
    "            pickle.dump(test_desc, open(test_desc_path, 'wb'))\n",
    "            # Obtain visual words for train and test sets\n",
    "            VisualWords.fit(train_desc)\n",
    "            train_data = VisualWords.get_visual_words(train_desc)\n",
    "            test_data = VisualWords.get_visual_words(test_desc)\n",
    "            # Save computed data\n",
    "            pickle.dump(train_data, open(train_data_path, 'wb'))\n",
    "            pickle.dump(test_data, open(test_data_path, 'wb'))\n",
    "            # Train SVM with cross-validation 5-fold\n",
    "    with CodeTimer(\"Train SVM\"):\n",
    "        cv = GridSearchCV(SVC(), param_grid=PARAM_GRID, cv=K_FOLDS)\n",
    "        cv.fit(train_data, train_labels)\n",
    "    # Test SVM\n",
    "    with CodeTimer(\"Test SVM\"):\n",
    "        results_train.append(cv.score(train_data, train_labels)) \n",
    "        results_test.append(cv.score(test_data, test_labels)) "
   ]
  },
  {
   "cell_type": "code",
   "execution_count": 29,
   "metadata": {},
   "outputs": [
    {
     "data": {
      "image/png": "[encoded data removed]",
      "text/plain": [
       "<Figure size 576x360 with 1 Axes>"
      ]
     },
     "metadata": {
      "needs_background": "light"
     },
     "output_type": "display_data"
    }
   ],
   "source": [
    "plt.figure(figsize=(8, 5))\n",
    "plt.title('Results from different number of clusters.')\n",
    "plt.plot(N_CLUSTERS,results_train,'b',linewidth=2,label='Test')\n",
    "plt.plot(N_CLUSTERS,results_test,'r',linewidth=2,label='Train')\n",
    "plt.ylabel('Accuracy')\n",
    "plt.xlabel('Number of Clusters/Size of Vocabulary')\n",
    "plt.grid(True)\n",
    "plt.show()"
   ]
  },
  {
   "cell_type": "markdown",
   "metadata": {},
   "source": [
    "Conclusion:\n",
    "    \n",
    "In this graph we can appreciate that using now more clusters helps the SVM to increase the accuracy from 81.16% to more than 86% (86.74% to be exact) which is great. Until this point we have been using the default parameters of the SVM which are:\n",
    "\n",
    "1. C -- (Regularization parameter): 1\n",
    "2. kernel -- (Specifies the kernel): RBF\n",
    "3. gamma -- (Kernel coefficient): scale\n",
    "5. decision_function_shape -- (Whether to return a one-vs-rest or other settings): ovr"
   ]
  },
  {
   "cell_type": "markdown",
   "metadata": {},
   "source": [
    "How Normalization affects the results\n",
    "--"
   ]
  },
  {
   "cell_type": "markdown",
   "metadata": {},
   "source": [
    "In this experiment we are going to normalize the data and then see if the normalization actually improves the results versus not applying it. We will try 3 types of normalizations:\n",
    "   1. L1\n",
    "   2. L2\n",
    "   3. Power\n",
    "   \n",
    "Apart from these normalizations we will also normalize in mean and variance the data using a class from sklearn call _Standard Scalar_"
   ]
  },
  {
   "cell_type": "code",
   "execution_count": 9,
   "metadata": {},
   "outputs": [],
   "source": [
    "N_CLUSTERS = 896\n",
    "STEP_SIZE = 16\n",
    "DESC_SIZE = [8,16]\n",
    "K_FOLDS = 5\n",
    "PARAM_GRID = {'C': [1], 'kernel': ['rbf'], 'gamma': ['scale']}\n",
    "NORMALIZATIONS = [\"l1\",\"l2\",\"power\"]"
   ]
  },
  {
   "cell_type": "code",
   "execution_count": 10,
   "metadata": {},
   "outputs": [
    {
     "name": "stdout",
     "output_type": "stream",
     "text": [
      "Train SVM: 28.611683130264282 s\n",
      "Test SVM: 5.206831932067871 s\n",
      "Train SVM: 27.188402891159058 s\n",
      "Test SVM: 5.178617238998413 s\n",
      "Train SVM: 28.08722472190857 s\n",
      "Test SVM: 5.254977703094482 s\n"
     ]
    }
   ],
   "source": [
    "results_train = []\n",
    "results_test = []\n",
    "\n",
    "DenseSIFT = DenseSIFT_()\n",
    "scaler = StandardScaler()\n",
    "VisualWords = VisualWords_(N_CLUSTERS)\n",
    "Normalizer = Normalizer_()\n",
    "\n",
    "train_desc_path = SAVE_PATH+os.sep+'desc'+os.sep+'train'+str(N_CLUSTERS)+'_'+str(STEP_SIZE)+'_8-16.dat'\n",
    "test_desc_path = SAVE_PATH+os.sep+'desc'+os.sep+'test'+str(N_CLUSTERS)+'_'+str(STEP_SIZE)+'_8-16.dat'\n",
    "train_data_path = SAVE_PATH+os.sep+'data'+os.sep+'train'+str(N_CLUSTERS)+'_'+str(STEP_SIZE)+'_8-16.dat'\n",
    "test_data_path = SAVE_PATH+os.sep+'data'+os.sep+'test'+str(N_CLUSTERS)+'_'+str(STEP_SIZE)+'_8-16.dat'\n",
    "if all(os.path.isfile(path) for path in [train_desc_path,test_desc_path,train_data_path,test_data_path]):\n",
    "    train_desc = pickle.load(open(train_desc_path, 'rb'))\n",
    "    test_desc = pickle.load(open(test_desc_path,'rb'))\n",
    "    train_data = pickle.load(open(train_data_path,'rb'))\n",
    "    test_data = pickle.load(open(test_data_path,'rb'))\n",
    "else:\n",
    "    with CodeTimer(\"Obtain training and test data\"):\n",
    "        # Compute DenseSIFT descriptors for train and test sets\n",
    "        train_desc = DenseSIFT.compute(train_img_paths, STEP_SIZE, DESC_SIZE, 2)\n",
    "        test_desc = DenseSIFT.compute(test_img_paths, STEP_SIZE, DESC_SIZE, 2)\n",
    "        # Save computed data\n",
    "        pickle.dump(train_desc, open(train_desc_path, 'wb'))\n",
    "        pickle.dump(test_desc, open(test_desc_path, 'wb'))\n",
    "        # Obtain visual words for train and test sets\n",
    "        VisualWords.fit(train_desc)\n",
    "        train_data = VisualWords.get_visual_words(train_desc)\n",
    "        test_data = VisualWords.get_visual_words(test_desc)\n",
    "        # Save computed data\n",
    "        pickle.dump(train_data, open(train_data_path, 'wb'))\n",
    "        pickle.dump(test_data, open(test_data_path, 'wb'))\n",
    "for norm in NORMALIZATIONS:\n",
    "    # Normalize data\n",
    "    train_data_norm = Normalizer.normalize(train_data, norm)\n",
    "    test_data_norm = Normalizer.normalize(test_data, norm)\n",
    "    # Scale data\n",
    "    train_data_norm = scaler.fit_transform(train_data_norm)\n",
    "    test_data_norm = scaler.transform(test_data_norm)\n",
    "    # Train SVM with cross-validation 5-fold\n",
    "    with CodeTimer(\"Train SVM\"):\n",
    "        cv = GridSearchCV(SVC(), param_grid=PARAM_GRID, cv=K_FOLDS)\n",
    "        cv.fit(train_data_norm, train_labels)\n",
    "    # Test SVM\n",
    "    with CodeTimer(\"Test SVM\"):\n",
    "        results_train.append(cv.score(train_data_norm, train_labels)) \n",
    "        results_test.append(cv.score(test_data_norm, test_labels))"
   ]
  },
  {
   "cell_type": "code",
   "execution_count": 11,
   "metadata": {},
   "outputs": [
    {
     "data": {
      "image/png": "[encoded data removed]",
      "text/plain": [
       "<Figure size 576x360 with 1 Axes>"
      ]
     },
     "metadata": {
      "needs_background": "light"
     },
     "output_type": "display_data"
    }
   ],
   "source": [
    "plt.figure(figsize=(8, 5))\n",
    "plt.title('Results from different normalizations.')\n",
    "plt.plot(NORMALIZATIONS,results_train,'b',linewidth=2,label='Test')\n",
    "plt.plot(NORMALIZATIONS,results_test,'r',linewidth=2,label='Train')\n",
    "plt.ylabel('Accuracy')\n",
    "plt.xlabel('Normalizations')\n",
    "plt.grid(True)\n",
    "plt.show()"
   ]
  },
  {
   "cell_type": "markdown",
   "metadata": {},
   "source": [
    "Conclusions: \n",
    "\n",
    "Observing this graph we can see that the L1 normalization seems to work better than the other normalizations. However, we see a significant drop in performance compared with previous test. We have to be careful because this test has been computed using the vanilla SVM, so maybe adjusting the SVM we achieve to improve the results, so from here L1 normalization will be applied."
   ]
  },
  {
   "cell_type": "markdown",
   "metadata": {},
   "source": [
    "Finetuning the SVM\n",
    "--"
   ]
  },
  {
   "cell_type": "markdown",
   "metadata": {},
   "source": [
    "To finetune the SVM we have three main parameters to test:\n",
    "\n",
    "1. C: Regularizer constant\n",
    "2. Kernel: type of kernel used\n",
    "3. tol: Tolerance, value to adjust the level of tolerance on accepting errors.\n",
    "\n",
    "For the C we will try low, mid and high values using a logarithmic scale. For the tolerance we will use values between 0 and 1. Finally for the kernels we will be using the default 'rbf', 'linear', 'sigmoid' and our implementation of the ***histogram intersection kernel***:  \n",
    "\n",
    "```python\n",
    "def histogram_intersection_kernel(a, b):\n",
    "    K = np.empty(shape=(a.shape[0], b.shape[0]), dtype=np.float32)\n",
    "    for i in range(a.shape[0]):\n",
    "        K[i] = np.sum(np.minimum(a[i], b), axis=1)\n",
    "    return K\n",
    "```"
   ]
  },
  {
   "cell_type": "code",
   "execution_count": 8,
   "metadata": {},
   "outputs": [],
   "source": [
    "N_CLUSTERS = 896\n",
    "STEP_SIZE = 16\n",
    "DESC_SIZE = [8,16]\n",
    "K_FOLDS = 5\n",
    "C = np.logspace(-4,4,15,base=10).tolist()\n",
    "TOLERANCE = np.logspace(-3,3,10,base=2).tolist()"
   ]
  },
  {
   "cell_type": "code",
   "execution_count": 18,
   "metadata": {},
   "outputs": [
    {
     "name": "stdout",
     "output_type": "stream",
     "text": [
      "Obtain training and test data: 0.06606698036193848 s\n",
      "Fitting 5 folds for each of 1 candidates, totalling 5 fits\n"
     ]
    },
    {
     "name": "stderr",
     "output_type": "stream",
     "text": [
      "[Parallel(n_jobs=-1)]: Using backend LokyBackend with 4 concurrent workers.\n",
      "[Parallel(n_jobs=-1)]: Done   2 out of   5 | elapsed:   24.4s remaining:   36.5s\n",
      "[Parallel(n_jobs=-1)]: Done   5 out of   5 | elapsed:   35.8s finished\n"
     ]
    },
    {
     "name": "stdout",
     "output_type": "stream",
     "text": [
      "Train SVM: 50.78174805641174 s\n",
      "0.9782030834662414\n",
      "0.8661710037174721\n",
      "Test SVM: 20.63075089454651 s\n"
     ]
    }
   ],
   "source": [
    "DenseSIFT = DenseSIFT_()\n",
    "scaler = StandardScaler()\n",
    "VisualWords = VisualWords_(N_CLUSTERS)\n",
    "train_desc_path = SAVE_PATH+'desc'+os.sep+'train_exp_2.dat'\n",
    "test_desc_path = SAVE_PATH+'desc'+os.sep+'test_exp_2.dat'\n",
    "train_data_path = SAVE_PATH+'data'+os.sep+'train_exp_2.dat'\n",
    "test_data_path = SAVE_PATH+'data'+os.sep+'test_exp_2.dat'\n",
    "with CodeTimer(\"Obtain training and test data\"):\n",
    "    # Check for existing data files already computed\n",
    "    if all(os.path.isfile(path) for path in [train_data_path, test_data_path, train_desc_path, test_desc_path]):\n",
    "        train_data = pickle.load(open(train_data_path, 'rb'))\n",
    "        test_data = pickle.load(open(test_data_path, 'rb'))\n",
    "        train_desc = pickle.load(open(train_data_path, 'rb'))\n",
    "        test_desc = pickle.load(open(test_data_path, 'rb'))\n",
    "        train_data = scaler.fit_transform(train_data)\n",
    "        test_data = scaler.transform(test_data)\n",
    "    else:\n",
    "        # Compute DenseSIFT descriptors for train and test sets\n",
    "        train_desc = DenseSIFT.compute(train_img_paths, STEP_SIZE, DESC_SIZE)\n",
    "        test_desc = DenseSIFT.compute(test_img_paths, STEP_SIZE, DESC_SIZE)\n",
    "        # Save computed data\n",
    "        pickle.dump(train_desc, open(train_desc_path, 'wb'))\n",
    "        pickle.dump(test_desc, open(test_desc_path, 'wb'))\n",
    "        # Obtain visual words for train and test sets\n",
    "        VisualWords.fit(train_desc)\n",
    "        train_data = VisualWords.get_visual_words(train_desc)\n",
    "        test_data = VisualWords.get_visual_words(test_desc)\n",
    "        # Save computed data\n",
    "        pickle.dump(train_data, open(train_data_path, 'wb'))\n",
    "        pickle.dump(test_data, open(test_data_path, 'wb'))\n",
    "\n",
    "results_train = []\n",
    "results_test = []\n",
    "C = np.logspace(-4,4,15,base=10).tolist()\n",
    "GAMMA = ['scale']\n",
    "KERNEL = [histogram_intersection_kernel]\n",
    "TOLERANCE = np.logspace(-3,0,10,base=2).tolist()\n",
    "for c in C:\n",
    "    # Normalize data\n",
    "    train_data_norm = Normalizer.normalize(train_data, 'l1')\n",
    "    test_data_norm = Normalizer.normalize(test_data, 'l1')\n",
    "    # Scale data\n",
    "    train_data_norm = scaler.fit_transform(train_data_norm)\n",
    "    test_data_norm = scaler.transform(test_data_norm)\n",
    "    PARAMETERS = {'C':[c],'gamma':GAMMA,'kernel':KERNEL,'tol': TOLERANCE}\n",
    "    # Train SVM with cross-validation 5-fold\n",
    "    with CodeTimer(\"Train SVM\"):\n",
    "        cv = GridSearchCV(SVC(), param_grid=PARAMETERS, cv=K_FOLDS, verbose=5, n_jobs=-1)\n",
    "        cv.fit(train_data_norm, train_labels)\n",
    "    # Test SVM\n",
    "    with CodeTimer(\"Test SVM\"):\n",
    "        results_train.append(cv.score(train_data_norm, train_labels)) \n",
    "        results_test.append(cv.score(test_data_norm, test_labels)) "
   ]
  },
  {
   "cell_type": "code",
   "execution_count": 23,
   "metadata": {},
   "outputs": [
    {
     "data": {
      "image/png": "[encoded data removed]",
      "text/plain": [
       "<Figure size 576x360 with 1 Axes>"
      ]
     },
     "metadata": {
      "needs_background": "light"
     },
     "output_type": "display_data"
    }
   ],
   "source": [
    "KERNEL = [\"linear\", \"rbf\", \"sigmoid\", \"hist_intersection\"]\n",
    "plt.figure(figsize=(8, 5))\n",
    "plt.title('Results from different kernels.')\n",
    "plt.plot(KERNEL,results_train,'b',linewidth=2,label='Test')\n",
    "plt.plot(KERNEL,results_test,'r',linewidth=2,label='Train')\n",
    "plt.ylabel('Accuracy')\n",
    "plt.xlabel('Kernels Used')\n",
    "plt.grid(True)\n",
    "plt.show()"
   ]
  },
  {
   "cell_type": "markdown",
   "metadata": {},
   "source": [
    "Seeing this graph we can see that 'rbf' is the only one that works slighty worst than the others. We also see that using sigmoid, th SVM tend to not overfit as much as when other kernels are used.\n",
    "\n",
    "For the following test, we will stay with sigmoid and histogram_intersection as both seem to work well and achieve accuracies around 86%\n",
    "\n",
    "We need to remark that when using histogram_intersection, the parameter gamma is not used."
   ]
  },
  {
   "cell_type": "code",
   "execution_count": 27,
   "metadata": {},
   "outputs": [
    {
     "data": {
      "image/png": "[encoded data removed]",
      "text/plain": [
       "<Figure size 576x360 with 1 Axes>"
      ]
     },
     "metadata": {
      "needs_background": "light"
     },
     "output_type": "display_data"
    }
   ],
   "source": [
    "plt.figure(figsize=(8, 5))\n",
    "plt.title('Results from varying Regularizer. Using Sigmoid')\n",
    "plt.plot(C,results_train,'b',linewidth=2,label='Test')\n",
    "plt.plot(C,results_test,'r',linewidth=2,label='Train')\n",
    "plt.xscale('log',basex=10)\n",
    "plt.ylabel('Accuracy')\n",
    "plt.xlabel('Value C')\n",
    "plt.grid(True)\n",
    "plt.show()"
   ]
  },
  {
   "cell_type": "markdown",
   "metadata": {},
   "source": [
    "When using the sigmoid kernel and playing with the regularizer value C, we see that taking a very low value does not help the SVM, meaning that instead of actually regularizing, don't allow the SVM to learn properly. Taking values too high, the accuracy increases but we see that given a point, choosing a higher regularization don't affect the model.\n",
    "\n",
    "The conclusion is that using sigmoid kernel, C needs to be adjusted around 1 and 3.72 reaching then accuracies that get to 87%"
   ]
  },
  {
   "cell_type": "code",
   "execution_count": 29,
   "metadata": {},
   "outputs": [
    {
     "data": {
      "image/png": "[encoded data removed]",
      "text/plain": [
       "<Figure size 576x360 with 1 Axes>"
      ]
     },
     "metadata": {
      "needs_background": "light"
     },
     "output_type": "display_data"
    }
   ],
   "source": [
    "plt.figure(figsize=(8, 5))\n",
    "plt.title('Results from varying Regularizer. Using Histogram Intersection')\n",
    "plt.plot(C,results_train,'b',linewidth=2,label='Test')\n",
    "plt.plot(C,results_test,'r',linewidth=2,label='Train')\n",
    "plt.xscale('log',basex=10)\n",
    "plt.ylabel('Accuracy')\n",
    "plt.xlabel('Value C')\n",
    "plt.grid(True)\n",
    "plt.show()"
   ]
  },
  {
   "cell_type": "markdown",
   "metadata": {},
   "source": [
    "When using the histogram_intersection and varying the value C, we see a similar behaviour as before with the sigmoid but more indicative. Values too low don't help but choosing it too high, is irrelevant and has no effect at all.\n",
    "\n",
    "If choosing histogram_intersection C value needs to be adjusted around 0.001389 achieving then accuracies around 87%.\n",
    "\n",
    "Seeing that both kernels (sigmoid and histogram_intersection) perform roughly similar, we have decided to stick with the histogram_intersection kernel."
   ]
  },
  {
   "cell_type": "code",
   "execution_count": 16,
   "metadata": {},
   "outputs": [
    {
     "data": {
      "image/png": "[encoded data removed]",
      "text/plain": [
       "<Figure size 576x360 with 1 Axes>"
      ]
     },
     "metadata": {
      "needs_background": "light"
     },
     "output_type": "display_data"
    }
   ],
   "source": [
    "plt.figure(figsize=(8, 5))\n",
    "plt.title('Results with different value of Tolerance.')\n",
    "plt.plot(TOLERANCE,results_train,'b',linewidth=2,label='Test')\n",
    "plt.plot(TOLERANCE,results_test,'r',linewidth=2,label='Train')\n",
    "plt.xscale('log',basex=2)\n",
    "plt.ylabel('Accuracy')\n",
    "plt.xlabel('Tolerance value')\n",
    "plt.grid(True)\n",
    "plt.show()"
   ]
  },
  {
   "cell_type": "markdown",
   "metadata": {},
   "source": [
    "When playing with tolerance we see that it is important not to choose a tolerance taht is too high. Makes sense because as bigger tolerance gets, the allowed error will be bigger, decreasing the accuracy. However we exepected to see a different behaviour for lower values of the tolerance, mainly because with different acceptance on the error we thought that different accuracies would be achieved. Instead we see that the tolerance is indiferent as long as it takes values lower than 2. It is true that choosing a value between 1 and 1.81 seems to have a slightly improvement reaching the 87.4%"
   ]
  },
  {
   "cell_type": "markdown",
   "metadata": {},
   "source": [
    "Conclusions: \n",
    "\n",
    "We have seen that finetuning the SVM parameters have not improved a lot the basic vanilla SVM, passing from a 86.74% to numbers that barely surpass the 87% of accuracy (best 87.67%). The best approach seems to be the following:\n",
    "\n",
    "1. 896 Clusters or Number of words.\n",
    "2. Dense sift of 16 steps and sizes of 8 and 16\n",
    "3. Normalization with l1\n",
    "4. Using the histogram_intersection Kernel\n",
    "5. Using values of C around 0.001389\n",
    "\n",
    "In the following parts we will study if considereing the problem differently the results can be improved as we don't conform with that low improvement."
   ]
  },
  {
   "cell_type": "markdown",
   "metadata": {},
   "source": [
    "Pyramid Dense SIFT\n",
    "--"
   ]
  },
  {
   "cell_type": "markdown",
   "metadata": {},
   "source": [
    "So far we have tried try different ways of computing the data and finetune the SVM. This time we want to change if applying apyramidal structure on the data could imporve our results of what we have seen.\n",
    "\n",
    "The implementation of the Pyramid Dense SIFT computes the SIFT descriptors in subparts of the image. So we divide the image in equal parts and then compute the DenseSIFT on each part. We consider that 4 parts is enough, as more than that, could generate to much descriptors distorting the results.\n",
    "\n",
    "For this experiment we study again how many clusters the VisualWords needs (Which has to be changed due to the change on the descriptors). We are interested in testing if the pyramidal SIFT changes the previous parameters."
   ]
  },
  {
   "cell_type": "code",
   "execution_count": 14,
   "metadata": {
    "scrolled": true
   },
   "outputs": [
    {
     "name": "stdout",
     "output_type": "stream",
     "text": [
      "Obtain training and test data: 266.85105991363525 s\n",
      "Train SVM: 53.81740212440491 s\n",
      "Test SVM: 16.206432104110718 s\n",
      "Obtain training and test data: 336.7478930950165 s\n",
      "Train SVM: 113.27934312820435 s\n",
      "Test SVM: 33.147215127944946 s\n",
      "Obtain training and test data: 360.46264481544495 s\n",
      "Train SVM: 161.8270559310913 s\n",
      "Test SVM: 47.85097074508667 s\n",
      "Obtain training and test data: 429.1402769088745 s\n",
      "Train SVM: 224.18636679649353 s\n",
      "Test SVM: 65.23392677307129 s\n",
      "Obtain training and test data: 476.61944913864136 s\n",
      "Train SVM: 278.6796569824219 s\n",
      "Test SVM: 82.33936810493469 s\n",
      "Obtain training and test data: 520.8370931148529 s\n",
      "Train SVM: 331.4442229270935 s\n",
      "Test SVM: 97.78085470199585 s\n",
      "Obtain training and test data: 566.4122149944305 s\n",
      "Train SVM: 376.9146318435669 s\n",
      "Test SVM: 113.58303117752075 s\n",
      "Obtain training and test data: 600.8368592262268 s\n",
      "Train SVM: 435.09952092170715 s\n",
      "Test SVM: 122.61005687713623 s\n"
     ]
    }
   ],
   "source": [
    "STEP_SIZE = 16\n",
    "DESC_SIZE = [8,16]\n",
    "N_CLUSTERS = [128, 256, 384, 512, 640, 768, 896, 1024]\n",
    "K_FOLDS = 5\n",
    "param_grid = {'C': [0.001389], 'kernel': [histogram_intersection_kernel], 'gamma': ['scale'], 'tol': [1.34590]}\n",
    "results_test = []\n",
    "results_train = []\n",
    "\n",
    "DenseSIFTPyramid = DenseSIFTPyramid_()\n",
    "scaler = StandardScaler()\n",
    "for n_cluster in N_CLUSTERS:\n",
    "    VisualWordsPyramid = VisualWordsPyramid_(n_cluster)\n",
    "    train_desc_path = SAVE_PATH+os.sep+'desc'+os.sep+'train'+str(n_cluster)+'_'+str(STEP_SIZE)+'_8-16p.dat'\n",
    "    test_desc_path = SAVE_PATH+os.sep+'desc'+os.sep+'test'+str(n_cluster)+'_'+str(STEP_SIZE)+'_8-16p.dat'\n",
    "    train_data_path = SAVE_PATH+os.sep+'data'+os.sep+'train'+str(n_cluster)+'_'+str(STEP_SIZE)+'_8-16p.dat'\n",
    "    test_data_path = SAVE_PATH+os.sep+'data'+os.sep+'test'+str(n_cluster)+'_'+str(STEP_SIZE)+'_8-16p.dat'\n",
    "    if all(os.path.isfile(path) for path in [train_desc_path,test_desc_path,train_data_path,test_data_path]):\n",
    "        train_desc = pickle.load(open(train_desc_path, 'rb'))\n",
    "        test_desc = pickle.load(open(test_desc_path,'rb'))\n",
    "        train_data = pickle.load(open(train_data_path,'rb'))\n",
    "        test_data = pickle.load(open(test_data_path,'rb'))\n",
    "    else:\n",
    "        with CodeTimer(\"Obtain training and test data\"):\n",
    "            # Compute DenseSIFT descriptors for train and test sets\n",
    "            train_desc = DenseSIFTPyramid.compute(train_img_paths, STEP_SIZE, DESC_SIZE, 2)\n",
    "            test_desc = DenseSIFTPyramid.compute(test_img_paths, STEP_SIZE, DESC_SIZE, 2)\n",
    "            # Save computed data\n",
    "            pickle.dump(train_desc, open(train_desc_path, 'wb'))\n",
    "            pickle.dump(test_desc, open(test_desc_path, 'wb'))\n",
    "            # Obtain visual words for train and test sets\n",
    "            VisualWordsPyramid.fit(train_desc)\n",
    "            train_data = VisualWordsPyramid.get_visual_words(train_desc)\n",
    "            test_data = VisualWordsPyramid.get_visual_words(test_desc)\n",
    "            # Save computed data\n",
    "            pickle.dump(train_data, open(train_data_path, 'wb'))\n",
    "            pickle.dump(test_data, open(test_data_path, 'wb'))\n",
    "    # Scale data\n",
    "    train_data = scaler.fit_transform(train_data)\n",
    "    test_data = scaler.transform(test_data)\n",
    "    # Train SVM with cross-validation 5-fold\n",
    "    with CodeTimer(\"Train SVM\"):\n",
    "        cv = GridSearchCV(SVC(), param_grid=param_grid, cv=K_FOLDS)\n",
    "        cv.fit(train_data, train_labels)\n",
    "    # Test SVM\n",
    "    with CodeTimer(\"Test SVM\"):\n",
    "        results_train.append(cv.score(train_data, train_labels)) \n",
    "        results_test.append(cv.score(test_data, test_labels)) "
   ]
  },
  {
   "cell_type": "code",
   "execution_count": 13,
   "metadata": {},
   "outputs": [
    {
     "data": {
      "image/png": "[encoded data removed]",
      "text/plain": [
       "<Figure size 576x360 with 1 Axes>"
      ]
     },
     "metadata": {
      "needs_background": "light"
     },
     "output_type": "display_data"
    }
   ],
   "source": [
    "plt.figure(figsize=(8, 5))\n",
    "plt.title('Results from different number of clusters with 2 level pyramid and scaling.')\n",
    "plt.plot(N_CLUSTERS,results_train,'b',linewidth=2,label='Test')\n",
    "plt.plot(N_CLUSTERS,results_test,'r',linewidth=2,label='Train')\n",
    "plt.ylabel('Accuracy')\n",
    "plt.xlabel('Number of Clusters/Size of Vocabulary')\n",
    "plt.grid(True)\n",
    "plt.show()"
   ]
  },
  {
   "cell_type": "markdown",
   "metadata": {},
   "source": [
    "We see that as before using 896 clusters seems to work better than using lower number of clusters. At the same time we achieve to get a greater increase of the accuracy reaching the 89.47% a significant improvement from the vanilla SVM with DenseSIFT.\n",
    "\n",
    "If we compare the results of this experiment with the results obtained before we see that:"
   ]
  },
  {
   "cell_type": "code",
   "execution_count": 9,
   "metadata": {},
   "outputs": [
    {
     "data": {
      "image/png": "[encoded data removed]",
      "text/plain": [
       "<Figure size 576x360 with 1 Axes>"
      ]
     },
     "metadata": {
      "needs_background": "light"
     },
     "output_type": "display_data"
    }
   ],
   "source": [
    "plt.figure(figsize=(8, 5))\n",
    "plt.title('Results from Comparing the two experiments.')\n",
    "plt.plot(N_CLUSTERS,results_normal,'b',linewidth=2,label='Normal')\n",
    "plt.plot(N_CLUSTERS,results_pyramid,'r',linewidth=2,label='Pyramid')\n",
    "plt.ylabel('Accuracy')\n",
    "plt.xlabel('Number of Clusters/Size of Vocabulary')\n",
    "plt.grid(True)\n",
    "plt.show()"
   ]
  },
  {
   "cell_type": "markdown",
   "metadata": {},
   "source": [
    "The pyramid outperforms the previous method for any value of clusters, reaching the highest precision at 896 with 89.47% percent. This means that using descriptors that take into account the position work better than if descriptors of the full image are taken."
   ]
  },
  {
   "cell_type": "markdown",
   "metadata": {},
   "source": [
    "FISHER\n",
    "--"
   ]
  },
  {
   "cell_type": "markdown",
   "metadata": {},
   "source": [
    "We are still very intrigued about if it is possible to reach precisions higher than 90%, that's why we have installed the yael library and tried the fisher vectors. For this reason here there are the correspondance imports using python2 that our code needs to compute the fisher vectors. \n",
    "\n",
    "Instead of computing the data using the bag of visual words, many papers suggest that fisher vectors work at state of art precision. Fisher vectors are used a lot in Computer Vision and can be used to describe an entire image for image classification. Are inspired by using Gaussian Mixture Models and approximate the probability density of the data.\n",
    "\n",
    "1. A Gaussian Mixture Model (GMM) is used to model the distribution of features (e.g. SIFT) extracted all over the image\n",
    "2. The Fisher Vector (FV) encodes the gradients of the log-likelihood of the features under the GMM, with respect to the GMM parameters.\n",
    "\n",
    "Since the GMM parameters represent the first-order moments of the features, the FV encodes second-order moments of the features, roughly.\n",
    "\n",
    "Once we have the fisher vectors ready we will pass them through the SVM with the best parameters found under the \"Finetuning SVM\" part."
   ]
  },
  {
   "cell_type": "code",
   "execution_count": 1,
   "metadata": {},
   "outputs": [],
   "source": [
    "from yael.yael import ynumpy\n",
    "from utils.DatasetManager import DatasetManager\n",
    "from utils.Kernels import histogram_intersection_kernel\n",
    "from sklearn.model_selection import GridSearchCV\n",
    "from sklearn.svm import SVC\n",
    "from sklearn.preprocessing import normalize\n",
    "import pickle\n",
    "import os\n",
    "import numpy as np"
   ]
  },
  {
   "cell_type": "code",
   "execution_count": 2,
   "metadata": {},
   "outputs": [],
   "source": [
    "train_desc_path = \"/home/joan/workspace/MCV_M3/M3_project/SavePath/desc_fisher/train.dat\"\n",
    "test_desc_path = \"/home/joan/workspace/MCV_M3/M3_project/SavePath/desc_fisher/test.dat\""
   ]
  },
  {
   "cell_type": "code",
   "execution_count": 3,
   "metadata": {},
   "outputs": [],
   "source": [
    "train_desc = pickle.load(open(train_desc_path, 'rb'))\n",
    "test_desc = pickle.load(open(test_desc_path, 'rb'))\n",
    "all_train_desc = np.vstack(train_desc)"
   ]
  },
  {
   "cell_type": "code",
   "execution_count": 4,
   "metadata": {},
   "outputs": [],
   "source": [
    "k = 64\n",
    "n_sample = k * 5000\n",
    "# choose n_sample descriptors at random\n",
    "sample_indices = np.random.choice(all_train_desc.shape[0], n_sample)\n",
    "sample = all_train_desc[sample_indices]\n",
    "# until now sample was in uint8. Convert to float32\n",
    "sample = sample.astype('float32')\n",
    "# until now sample was in uint8. Convert to float32\n",
    "gmm = ynumpy.gmm_learn(sample, k)"
   ]
  },
  {
   "cell_type": "code",
   "execution_count": 5,
   "metadata": {},
   "outputs": [],
   "source": [
    "train_fvs = []\n",
    "for image_desc in train_desc:\n",
    "    fv = ynumpy.fisher(gmm, image_desc, include = 'mu')\n",
    "    train_fvs.append(fv)"
   ]
  },
  {
   "cell_type": "code",
   "execution_count": 6,
   "metadata": {},
   "outputs": [],
   "source": [
    "test_fvs = []\n",
    "for image_desc in test_desc:\n",
    "    fv = ynumpy.fisher(gmm, image_desc, include = 'mu')\n",
    "    test_fvs.append(fv)"
   ]
  },
  {
   "cell_type": "code",
   "execution_count": 7,
   "metadata": {},
   "outputs": [],
   "source": [
    "train_data = np.array(train_fvs)\n",
    "test_data = np.array(test_fvs)"
   ]
  },
  {
   "cell_type": "code",
   "execution_count": 10,
   "metadata": {},
   "outputs": [
    {
     "name": "stdout",
     "output_type": "stream",
     "text": [
      "Fitting 5 folds for each of 1 candidates, totalling 5 fits\n"
     ]
    },
    {
     "name": "stderr",
     "output_type": "stream",
     "text": [
      "[Parallel(n_jobs=-1)]: Using backend LokyBackend with 12 concurrent workers.\n",
      "[Parallel(n_jobs=-1)]: Done   2 out of   5 | elapsed:  9.1min remaining: 13.7min\n",
      "[Parallel(n_jobs=-1)]: Done   5 out of   5 | elapsed:  9.3min finished\n"
     ]
    },
    {
     "data": {
      "text/plain": [
       "GridSearchCV(cv=5, error_score='raise-deprecating',\n",
       "       estimator=SVC(C=1.0, cache_size=200, class_weight=None, coef0=0.0,\n",
       "  decision_function_shape='ovr', degree=3, gamma='auto_deprecated',\n",
       "  kernel='rbf', max_iter=-1, probability=False, random_state=None,\n",
       "  shrinking=True, tol=0.001, verbose=False),\n",
       "       fit_params=None, iid='warn', n_jobs=-1,\n",
       "       param_grid={'kernel': [<function histogram_intersection_kernel at 0x7ff82c0d83d0>], 'C': [0.00134], 'gamma': ['scale']},\n",
       "       pre_dispatch='2*n_jobs', refit=True, return_train_score='warn',\n",
       "       scoring=None, verbose=5)"
      ]
     },
     "execution_count": 10,
     "metadata": {},
     "output_type": "execute_result"
    }
   ],
   "source": [
    "K_FOLDS = 5\n",
    "PARAMETERS = {\n",
    "    'C': [0.00134],\n",
    "    'gamma': [\"scale\"],\n",
    "    'kernel': [histogram_intersection_kernel]}\n",
    "\n",
    "cv = GridSearchCV(SVC(), param_grid=PARAMETERS, cv=K_FOLDS, n_jobs=-1, verbose=5)\n",
    "cv.fit(train_data, train_labels)"
   ]
  },
  {
   "cell_type": "code",
   "execution_count": 11,
   "metadata": {},
   "outputs": [
    {
     "name": "stdout",
     "output_type": "stream",
     "text": [
      "Train accuracy score: 0.999468367889\n",
      "Test accuracy score: 0.877323420074\n",
      "Best params: {'kernel': <function histogram_intersection_kernel at 0x7ff82c0d83d0>, 'C': 0.00134, 'gamma': 'scale'}\n",
      "\n",
      "All results: {'std_train_score': array([0.00026587]), 'split4_test_score': array([0.86021505]), 'split0_train_score': array([0.99933422]), 'rank_test_score': array([1], dtype=int32), 'param_gamma': masked_array(data=['scale'],\n",
      "             mask=[False],\n",
      "       fill_value='?',\n",
      "            dtype=object), 'split2_train_score': array([0.99933555]), 'std_score_time': array([1.92198117]), 'split4_train_score': array([0.99933731]), 'split2_test_score': array([0.88297872]), 'mean_score_time': array([52.24375176]), 'mean_fit_time': array([222.23916001]), 'param_kernel': masked_array(data=[<function histogram_intersection_kernel at 0x7ff82c0d83d0>],\n",
      "             mask=[False],\n",
      "       fill_value='?',\n",
      "            dtype=object), 'param_C': masked_array(data=[0.00134],\n",
      "             mask=[False],\n",
      "       fill_value='?',\n",
      "            dtype=object), 'std_test_score': array([0.01784812]), 'split1_train_score': array([0.99933422]), 'split0_test_score': array([0.8707124]), 'mean_test_score': array([0.88304094]), 'split3_train_score': array([1.]), 'params': [{'kernel': <function histogram_intersection_kernel at 0x7ff82c0d83d0>, 'C': 0.00134, 'gamma': 'scale'}], 'std_fit_time': array([2.27959434]), 'split3_test_score': array([0.888]), 'mean_train_score': array([0.99946826]), 'split1_test_score': array([0.91292876])}\n"
     ]
    }
   ],
   "source": [
    "train_score = cv.score(train_data, train_labels)\n",
    "test_score = cv.score(test_data, test_labels)\n",
    "        \n",
    "print(\"Train accuracy score: {}\\nTest accuracy score: {}\\nBest params: {}\\n\".format(train_score, test_score, cv.best_params_))\n",
    "print(\"All results: {}\".format(cv.cv_results_))"
   ]
  },
  {
   "cell_type": "markdown",
   "metadata": {},
   "source": [
    "### Fisher conclusions:\n"
   ]
  },
  {
   "cell_type": "markdown",
   "metadata": {},
   "source": [
    "As we can see, results using Fisher vectors are pretty good reaching 87.73% of accuracy but not enough to surpas our best score yet (89.47%). \n",
    "\n",
    "However, we think that this result is pretty good compared with the vanilla SVM, which at best, work at 86.5%.\n",
    "\n",
    "For later studies we propose to finetune the SVM for the Fisher Vectors."
   ]
  },
  {
   "cell_type": "markdown",
   "metadata": {},
   "source": [
    "FINAL RESULTS\n",
    "--"
   ]
  },
  {
   "cell_type": "markdown",
   "metadata": {},
   "source": [
    "To conclude this notebook, we will expose what have work for us and which model performed better:\n",
    "\n",
    "1. We have seen that using Pyramid Dense SIFT works best than using vanilla Dense SIFT. Our implementation of Pyramid consist of dividing the image in equal parts and computing the Dense SIFT descriptors on them. \n",
    "\n",
    "2. We also consider using more than one scale when computing DenseSIFT as we have proven to be beneficial with scales of 8 and 16 pixels.\n",
    "\n",
    "3. When using SVM, setting a big number of clusters is beneficial.We think this is due to the fact that with more clusters SVM is able to construct better hyper cylinders or find the dimension where the data is completely separabable.\n",
    "\n",
    "4. We have seen that normalization can influence the results of the SVM, where the l1 showed better results than other normalization techniques. However, in our case, we noticed a drop in performance when using the vanilla SVM. \n",
    "\n",
    "5. When finetuning the SVM, we have study how the different parameters affect the performance of the SVM, concluding that:\n",
    "    * The regularizer parameter change depending on the kernel used. For sigmoid for example, has to be set with values around 1, but with our implementation of histogram_intersection is better to use values around 1e-3. Setting this value higher produce an underscore and plateau.\n",
    "    * Linear, Sigmoid and Histogram_Intersection were performing almost the same, with the only difference being that sigmoid seem to not overfit the training data. RBF kernel proven to be the worst kernel.\n",
    "    * Tolerance value proven to be insignificant, as their effect was negligible as long as it value was lower than 2.\n",
    "    \n",
    "    \n",
    "6. We tried to use Fisher Vectors instead of Bag of Visual Words but we didn't achieve to reach the best score obtained. On the other side, the addition of Fisher Vectors improved our results using the vanilla finetuned SVM by 1% (FinetunedSVM: 86,74%, Fisher-Vectors: 87,73%)\n",
    "\n",
    "Overall we have seen that SVM outperforms KNN (from 81.5% to 89.47%) and we want to highlight that improvement obtained from the finetuning was slighter than the one obtained by modifying the data (using Pyramid DenseSIFT, adding more scales to the SIFT descriptors, normalizing it and scaling it), as we passed from 86.7% to 87.67 finetuning the SVM while passing from 86.7% to 89.47 just changing the DenseSIFT to Pyramid DenseSIFT.\n",
    "\n",
    "The best model was obtained using:\n",
    "\n",
    "* Pyramid DenseSIFT dividing the image by 4 parts and using steps of 16 pixels and scales of 8 and 16.\n",
    "* Using 896 clusters\n",
    "* Scaling the data\n",
    "* Using the Histogram Intersection\n",
    "* Setting regularizer parameter (C) to 0.00134\n",
    "\n",
    "With this setting we obtained our best with 89.47% (Pyramid DenseSIFT graph)"
   ]
  }
 ],
 "metadata": {
  "kernelspec": {
   "display_name": "Python 3",
   "language": "python",
   "name": "python3"
  },
  "language_info": {
   "codemirror_mode": {
    "name": "ipython",
    "version": 3
   },
   "file_extension": ".py",
   "mimetype": "text/x-python",
   "name": "python",
   "nbconvert_exporter": "python",
   "pygments_lexer": "ipython3",
   "version": "3.7.4"
  }
 },
 "nbformat": 4,
 "nbformat_minor": 4
}
