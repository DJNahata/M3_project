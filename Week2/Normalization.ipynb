{
 "cells": [
  {
   "cell_type": "markdown",
   "metadata": {},
   "source": [
    "M3. Improve BoVW with SVM's\n",
    "--"
   ]
  },
  {
   "cell_type": "code",
   "execution_count": 1,
   "metadata": {},
   "outputs": [],
   "source": [
    "import numpy as np\n",
    "import pickle\n",
    "import os\n",
    "\n",
    "import matplotlib.pyplot as plt\n",
    "%matplotlib inline\n",
    "from sklearn.model_selection import GridSearchCV\n",
    "from sklearn.svm import SVC\n",
    "from sklearn.preprocessing import StandardScaler\n",
    "\n",
    "from utils.CodeTimer import CodeTimer\n",
    "from utils.DatasetManager import DatasetManager\n",
    "from descriptors.SIFT import DenseSIFT as DenseSIFT_\n",
    "from descriptors.SIFT import DenseSIFTPyramid as DenseSIFTPyramid_\n",
    "from descriptors.VisualWords import VisualWords as VisualWords_\n",
    "from descriptors.VisualWords import VisualWordsPyramid as VisualWordsPyramid_\n",
    "from utils.Kernels import histogram_intersection_kernel\n",
    "from utils.Normalizer import Normalizer as Normalizer_"
   ]
  },
  {
   "cell_type": "code",
   "execution_count": 2,
   "metadata": {},
   "outputs": [],
   "source": [
    "dataset = DatasetManager(r\"C:\\Users\\PC\\Documents\\Roger\\Master\\M3\\Project\\Databases\\MIT_split\")\n",
    "train_img_paths, train_labels, test_img_paths, test_labels = dataset.load_dataset()\n",
    "SAVE_PATH = r\"C:\\Users\\PC\\Documents\\Roger\\Master\\M3\\Project\\GIT\\Week2\\SavePath\""
   ]
  },
  {
   "cell_type": "markdown",
   "metadata": {},
   "source": [
    "Normalization\n",
    "--"
   ]
  },
  {
   "cell_type": "code",
   "execution_count": 3,
   "metadata": {
    "scrolled": true
   },
   "outputs": [
    {
     "name": "stdout",
     "output_type": "stream",
     "text": [
      "Train SVM: 598.7332601547241 s\n",
      "Test SVM: 234.7728555202484 s\n",
      "Train SVM: 564.654415845871 s\n",
      "Test SVM: 161.00382494926453 s\n",
      "Train SVM: 573.0365097522736 s\n",
      "Test SVM: 161.2187213897705 s\n"
     ]
    }
   ],
   "source": [
    "STEP_SIZE = 16\n",
    "DESC_SIZE = [8,16]\n",
    "n_cluster = 896\n",
    "K_FOLDS = 5\n",
    "param_grid = {'C': [1], 'kernel': [histogram_intersection_kernel], 'gamma': ['scale']}\n",
    "NORMALIZATIONS = [\"l1\",\"l2\",\"power\"]\n",
    "results_test = []\n",
    "results_train = []\n",
    "\n",
    "DenseSIFTPyramid = DenseSIFTPyramid_()\n",
    "scaler = StandardScaler()\n",
    "VisualWordsPyramid = VisualWordsPyramid_(n_cluster)\n",
    "Normalizer = Normalizer_()\n",
    "\n",
    "train_desc_path = SAVE_PATH+os.sep+'desc'+os.sep+'train'+str(n_cluster)+'_'+str(STEP_SIZE)+'_8-16.dat'\n",
    "test_desc_path = SAVE_PATH+os.sep+'desc'+os.sep+'test'+str(n_cluster)+'_'+str(STEP_SIZE)+'_8-16.dat'\n",
    "train_data_path = SAVE_PATH+os.sep+'data'+os.sep+'train'+str(n_cluster)+'_'+str(STEP_SIZE)+'_8-16.dat'\n",
    "test_data_path = SAVE_PATH+os.sep+'data'+os.sep+'test'+str(n_cluster)+'_'+str(STEP_SIZE)+'_8-16.dat'\n",
    "if all(os.path.isfile(path) for path in [train_desc_path,test_desc_path,train_data_path,test_data_path]):\n",
    "    train_desc = pickle.load(open(train_desc_path, 'rb'))\n",
    "    test_desc = pickle.load(open(test_desc_path,'rb'))\n",
    "    train_data = pickle.load(open(train_data_path,'rb'))\n",
    "    test_data = pickle.load(open(test_data_path,'rb'))\n",
    "else:\n",
    "    with CodeTimer(\"Obtain training and test data\"):\n",
    "        # Compute DenseSIFT descriptors for train and test sets\n",
    "        train_desc = DenseSIFTPyramid.compute(train_img_paths, STEP_SIZE, DESC_SIZE, 2)\n",
    "        test_desc = DenseSIFTPyramid.compute(test_img_paths, STEP_SIZE, DESC_SIZE, 2)\n",
    "        # Save computed data\n",
    "        pickle.dump(train_desc, open(train_desc_path, 'wb'))\n",
    "        pickle.dump(test_desc, open(test_desc_path, 'wb'))\n",
    "        # Obtain visual words for train and test sets\n",
    "        VisualWordsPyramid.fit(train_desc)\n",
    "        train_data = VisualWordsPyramid.get_visual_words(train_desc)\n",
    "        test_data = VisualWordsPyramid.get_visual_words(test_desc)\n",
    "        # Save computed data\n",
    "        pickle.dump(train_data, open(train_data_path, 'wb'))\n",
    "        pickle.dump(test_data, open(test_data_path, 'wb'))\n",
    "for norm in NORMALIZATIONS:\n",
    "    # Normalize data\n",
    "    train_data_norm = Normalizer.normalize(train_data, norm)\n",
    "    test_data_norm = Normalizer.normalize(test_data, norm)\n",
    "    # Scale data\n",
    "    train_data_norm = scaler.fit_transform(train_data_norm)\n",
    "    test_data_norm = scaler.transform(test_data_norm)\n",
    "    # Train SVM with cross-validation 5-fold\n",
    "    with CodeTimer(\"Train SVM\"):\n",
    "        cv = GridSearchCV(SVC(), param_grid=param_grid, cv=K_FOLDS)\n",
    "        cv.fit(train_data_norm, train_labels)\n",
    "    # Test SVM\n",
    "    with CodeTimer(\"Test SVM\"):\n",
    "        results_train.append(cv.score(train_data_norm, train_labels)) \n",
    "        results_test.append(cv.score(test_data_norm, test_labels)) "
   ]
  },
  {
   "cell_type": "code",
   "execution_count": 4,
   "metadata": {},
   "outputs": [
    {
     "data": {
      "image/png": "[encoded data removed]",
      "text/plain": [
       "<Figure size 576x360 with 1 Axes>"
      ]
     },
     "metadata": {
      "needs_background": "light"
     },
     "output_type": "display_data"
    }
   ],
   "source": [
    "plt.figure(figsize=(8, 5))\n",
    "plt.title('Results from different normalizations.')\n",
    "plt.plot(NORMALIZATIONS,results_train,'b',linewidth=2,label='Test')\n",
    "plt.plot(NORMALIZATIONS,results_test,'r',linewidth=2,label='Train')\n",
    "plt.ylabel('Accuracy')\n",
    "plt.xlabel('Normalizations')\n",
    "plt.grid(True)\n",
    "plt.show()"
   ]
  },
  {
   "cell_type": "code",
   "execution_count": 5,
   "metadata": {},
   "outputs": [
    {
     "name": "stdout",
     "output_type": "stream",
     "text": [
      "[0.9994683678894205, 0.9994683678894205, 0.9994683678894205]\n",
      "[0.8946716232961586, 0.8872366790582404, 0.885997521685254]\n"
     ]
    }
   ],
   "source": [
    "print(results_train)\n",
    "print(results_test)"
   ]
  },
  {
   "cell_type": "markdown",
   "metadata": {},
   "source": [
    "We can observe that the three normalizations produce similar results. However, in our case, aplying l1 normalization or no normalization at all produces the best results, therefore, we would stick with the l1 normalization in this case."
   ]
  },
  {
   "cell_type": "code",
   "execution_count": null,
   "metadata": {},
   "outputs": [],
   "source": []
  }
 ],
 "metadata": {
  "kernelspec": {
   "display_name": "Python 3",
   "language": "python",
   "name": "python3"
  },
  "language_info": {
   "codemirror_mode": {
    "name": "ipython",
    "version": 3
   },
   "file_extension": ".py",
   "mimetype": "text/x-python",
   "name": "python",
   "nbconvert_exporter": "python",
   "pygments_lexer": "ipython3",
   "version": "3.7.4"
  }
 },
 "nbformat": 4,
 "nbformat_minor": 4
}
