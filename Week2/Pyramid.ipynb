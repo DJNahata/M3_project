{
 "cells": [
  {
   "cell_type": "markdown",
   "metadata": {},
   "source": [
    "M3. Improve BoVW with SVM's\n",
    "--"
   ]
  },
  {
   "cell_type": "code",
   "execution_count": 1,
   "metadata": {},
   "outputs": [],
   "source": [
    "import numpy as np\n",
    "import pickle\n",
    "import os\n",
    "\n",
    "import matplotlib.pyplot as plt\n",
    "%matplotlib inline\n",
    "from sklearn.model_selection import GridSearchCV\n",
    "from sklearn.svm import SVC\n",
    "from sklearn.preprocessing import StandardScaler\n",
    "\n",
    "from utils.CodeTimer import CodeTimer\n",
    "from utils.DatasetManager import DatasetManager\n",
    "from descriptors.SIFT import DenseSIFT as DenseSIFT_\n",
    "from descriptors.SIFT import DenseSIFTPyramid as DenseSIFTPyramid_\n",
    "from descriptors.VisualWords import VisualWords as VisualWords_\n",
    "from descriptors.VisualWords import VisualWordsPyramid as VisualWordsPyramid_\n",
    "from utils.Kernels import histogram_intersection_kernel"
   ]
  },
  {
   "cell_type": "code",
   "execution_count": 10,
   "metadata": {},
   "outputs": [],
   "source": [
    "dataset = DatasetManager(r\"C:\\Users\\PC\\Documents\\Roger\\Master\\M3\\Project\\Databases\\MIT_split\")\n",
    "train_img_paths, train_labels, test_img_paths, test_labels = dataset.load_dataset()\n",
    "SAVE_PATH = r\"C:\\Users\\PC\\Documents\\Roger\\Master\\M3\\Project\\GIT\\Week2\\SavePath\""
   ]
  },
  {
   "cell_type": "markdown",
   "metadata": {},
   "source": [
    "Scale the data and try a pyramidal scheme\n",
    "--"
   ]
  },
  {
   "cell_type": "markdown",
   "metadata": {},
   "source": [
    "Here we use the parameters that provided the best results until the moment."
   ]
  },
  {
   "cell_type": "code",
   "execution_count": 12,
   "metadata": {
    "scrolled": true
   },
   "outputs": [
    {
     "name": "stdout",
     "output_type": "stream",
     "text": [
      "Obtain training and test data: 600.8334321975708 s\n",
      "Train SVM: 109.06886768341064 s\n",
      "Test SVM: 32.245548486709595 s\n",
      "Obtain training and test data: 609.0359482765198 s\n",
      "Train SVM: 193.56341743469238 s\n",
      "Test SVM: 54.376542806625366 s\n",
      "Obtain training and test data: 665.2286114692688 s\n",
      "Train SVM: 267.89624285697937 s\n",
      "Test SVM: 77.6819281578064 s\n",
      "Obtain training and test data: 692.5553328990936 s\n",
      "Train SVM: 349.1913044452667 s\n",
      "Test SVM: 98.74928569793701 s\n",
      "Obtain training and test data: 804.787700176239 s\n",
      "Train SVM: 499.9225287437439 s\n",
      "Test SVM: 150.77769708633423 s\n",
      "Obtain training and test data: 1134.888260126114 s\n",
      "Train SVM: 636.0088942050934 s\n",
      "Test SVM: 184.2158064842224 s\n",
      "Obtain training and test data: 1260.281283378601 s\n",
      "Train SVM: 730.613344669342 s\n",
      "Test SVM: 182.11422085762024 s\n",
      "Obtain training and test data: 1219.0165905952454 s\n",
      "Train SVM: 670.5159146785736 s\n",
      "Test SVM: 207.78632283210754 s\n"
     ]
    }
   ],
   "source": [
    "STEP_SIZE = 16\n",
    "DESC_SIZE = [8,16]\n",
    "N_CLUSTERS = [128, 256, 384, 512, 640, 768, 896, 1024]\n",
    "K_FOLDS = 5\n",
    "param_grid = {'C': [1], 'kernel': [histogram_intersection_kernel], 'gamma': ['scale']}\n",
    "results_test = []\n",
    "results_train = []\n",
    "\n",
    "DenseSIFTPyramid = DenseSIFTPyramid_()\n",
    "scaler = StandardScaler()\n",
    "for n_cluster in N_CLUSTERS:\n",
    "    VisualWordsPyramid = VisualWordsPyramid_(n_cluster)\n",
    "    train_desc_path = SAVE_PATH+os.sep+'desc'+os.sep+'train'+str(n_cluster)+'_'+str(STEP_SIZE)+'_8-16.dat'\n",
    "    test_desc_path = SAVE_PATH+os.sep+'desc'+os.sep+'test'+str(n_cluster)+'_'+str(STEP_SIZE)+'_8-16.dat'\n",
    "    train_data_path = SAVE_PATH+os.sep+'data'+os.sep+'train'+str(n_cluster)+'_'+str(STEP_SIZE)+'_8-16.dat'\n",
    "    test_data_path = SAVE_PATH+os.sep+'data'+os.sep+'test'+str(n_cluster)+'_'+str(STEP_SIZE)+'_8-16.dat'\n",
    "    if all(os.path.isfile(path) for path in [train_desc_path,test_desc_path,train_data_path,test_data_path]):\n",
    "        train_desc = pickle.load(open(train_desc_path, 'rb'))\n",
    "        test_desc = pickle.load(open(test_desc_path,'rb'))\n",
    "        train_data = pickle.load(open(train_data_path,'rb'))\n",
    "        test_data = pickle.load(open(test_data_path,'rb'))\n",
    "    else:\n",
    "        with CodeTimer(\"Obtain training and test data\"):\n",
    "            # Compute DenseSIFT descriptors for train and test sets\n",
    "            train_desc = DenseSIFTPyramid.compute(train_img_paths, STEP_SIZE, DESC_SIZE, 2)\n",
    "            test_desc = DenseSIFTPyramid.compute(test_img_paths, STEP_SIZE, DESC_SIZE, 2)\n",
    "            # Save computed data\n",
    "            pickle.dump(train_desc, open(train_desc_path, 'wb'))\n",
    "            pickle.dump(test_desc, open(test_desc_path, 'wb'))\n",
    "            # Obtain visual words for train and test sets\n",
    "            VisualWordsPyramid.fit(train_desc)\n",
    "            train_data = VisualWordsPyramid.get_visual_words(train_desc)\n",
    "            test_data = VisualWordsPyramid.get_visual_words(test_desc)\n",
    "            # Save computed data\n",
    "            pickle.dump(train_data, open(train_data_path, 'wb'))\n",
    "            pickle.dump(test_data, open(test_data_path, 'wb'))\n",
    "    # Scale data\n",
    "    train_data = scaler.fit_transform(train_data)\n",
    "    test_data = scaler.transform(test_data)\n",
    "    # Train SVM with cross-validation 5-fold\n",
    "    with CodeTimer(\"Train SVM\"):\n",
    "        cv = GridSearchCV(SVC(), param_grid=param_grid, cv=K_FOLDS)\n",
    "        cv.fit(train_data, train_labels)\n",
    "    # Test SVM\n",
    "    with CodeTimer(\"Test SVM\"):\n",
    "        results_train.append(cv.score(train_data, train_labels)) \n",
    "        results_test.append(cv.score(test_data, test_labels)) "
   ]
  },
  {
   "cell_type": "code",
   "execution_count": 13,
   "metadata": {},
   "outputs": [
    {
     "data": {
      "image/png": "[encoded data removed]",
      "text/plain": [
       "<Figure size 576x360 with 1 Axes>"
      ]
     },
     "metadata": {
      "needs_background": "light"
     },
     "output_type": "display_data"
    }
   ],
   "source": [
    "plt.figure(figsize=(8, 5))\n",
    "plt.title('Results from different number of clusters with 2 level pyramid and scaling.')\n",
    "plt.plot(N_CLUSTERS,results_train,'b',linewidth=2,label='Test')\n",
    "plt.plot(N_CLUSTERS,results_test,'r',linewidth=2,label='Train')\n",
    "plt.ylabel('Accuracy')\n",
    "plt.xlabel('Number of Clusters/Size of Vocabulary')\n",
    "plt.grid(True)\n",
    "plt.show()"
   ]
  },
  {
   "cell_type": "code",
   "execution_count": 14,
   "metadata": {},
   "outputs": [
    {
     "name": "stdout",
     "output_type": "stream",
     "text": [
      "[0.9994683678894205, 0.9994683678894205, 0.9994683678894205, 0.9994683678894205, 0.9994683678894205, 0.9994683678894205, 0.9994683678894205, 0.9994683678894205]\n",
      "[0.8401486988847584, 0.8661710037174721, 0.8760842627013631, 0.8835192069392813, 0.8934324659231723, 0.8909541511771994, 0.8946716232961586, 0.8785625774473358]\n"
     ]
    }
   ],
   "source": [
    "print(results_train)\n",
    "print(results_test)"
   ]
  },
  {
   "cell_type": "markdown",
   "metadata": {},
   "source": [
    "We can observe that using 896 clusters provides the best results after using scaling and a 2-level pyramid."
   ]
  },
  {
   "cell_type": "code",
   "execution_count": null,
   "metadata": {},
   "outputs": [],
   "source": []
  }
 ],
 "metadata": {
  "kernelspec": {
   "display_name": "Python 3",
   "language": "python",
   "name": "python3"
  },
  "language_info": {
   "codemirror_mode": {
    "name": "ipython",
    "version": 3
   },
   "file_extension": ".py",
   "mimetype": "text/x-python",
   "name": "python",
   "nbconvert_exporter": "python",
   "pygments_lexer": "ipython3",
   "version": "3.7.2"
  }
 },
 "nbformat": 4,
 "nbformat_minor": 4
}
