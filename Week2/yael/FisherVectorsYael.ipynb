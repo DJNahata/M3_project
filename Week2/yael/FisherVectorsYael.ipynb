{
 "cells": [
  {
   "cell_type": "code",
   "execution_count": 2,
   "metadata": {},
   "outputs": [],
   "source": [
    "import os\n",
    "import numpy as np\n",
    "from yael import ynumpy"
   ]
  },
  {
   "cell_type": "code",
   "execution_count": 3,
   "metadata": {},
   "outputs": [],
   "source": [
    "train_desc_path = \"/home/joan/workspace/MCV_M3/M3_project/SavePath/desc_fisher/train.dat\"\n",
    "test_desc_path = \"/home/joan/workspace/MCV_M3/M3_project/SavePath/desc_fisher/test.dat\""
   ]
  },
  {
   "cell_type": "code",
   "execution_count": 4,
   "metadata": {},
   "outputs": [],
   "source": [
    "import pickle"
   ]
  },
  {
   "cell_type": "code",
   "execution_count": 5,
   "metadata": {},
   "outputs": [],
   "source": [
    "train_desc = pickle.load(open(train_desc_path, 'rb'))\n",
    "test_desc = pickle.load(open(test_desc_path, 'rb'))\n",
    "all_train_desc = np.vstack(train_desc)"
   ]
  },
  {
   "cell_type": "code",
   "execution_count": 26,
   "metadata": {},
   "outputs": [
    {
     "name": "stdout",
     "output_type": "stream",
     "text": [
      "(963072, 128)\n",
      "(320000, 128)\n"
     ]
    }
   ],
   "source": [
    "k = 64\n",
    "n_sample = k * 5000\n",
    "\n",
    "# choose n_sample descriptors at random\n",
    "sample_indices = np.random.choice(all_train_desc.shape[0], n_sample)\n",
    "sample = all_train_desc[sample_indices]\n",
    "\n",
    "# until now sample was in uint8. Convert to float32\n",
    "sample = sample.astype('float32')\n",
    "\n",
    "# until now sample was in uint8. Convert to float32\n",
    "gmm = ynumpy.gmm_learn(sample, k)"
   ]
  },
  {
   "cell_type": "code",
   "execution_count": 27,
   "metadata": {},
   "outputs": [],
   "source": [
    "train_fvs = []\n",
    "\n",
    "for image_desc in train_desc:\n",
    "    fv = ynumpy.fisher(gmm, image_desc, include = 'mu')\n",
    "    train_fvs.append(fv)"
   ]
  },
  {
   "cell_type": "code",
   "execution_count": 50,
   "metadata": {},
   "outputs": [],
   "source": [
    "test_fvs = []\n",
    "\n",
    "for image_desc in test_desc:\n",
    "    fv = ynumpy.fisher(gmm, image_desc, include = 'mu')\n",
    "    test_fvs.append(fv)"
   ]
  },
  {
   "cell_type": "code",
   "execution_count": 51,
   "metadata": {},
   "outputs": [],
   "source": [
    "train_data_path = \"/home/joan/workspace/MCV_M3/M3_project/SavePath/data_fisher/train.dat\"\n",
    "test_data_path = \"/home/joan/workspace/MCV_M3/M3_project/SavePath/data_fisher/test.dat\"\n",
    "\n",
    "# Save computed data\n",
    "pickle.dump(train_fvs, open(train_data_path, 'wb'), protocol=2)\n",
    "pickle.dump(test_fvs, open(test_data_path, 'wb'), protocol=2)"
   ]
  },
  {
   "cell_type": "code",
   "execution_count": 34,
   "metadata": {},
   "outputs": [],
   "source": [
    "from sklearn.model_selection import GridSearchCV\n",
    "from sklearn.svm import SVC\n",
    "from sklearn.preprocessing import normalize"
   ]
  },
  {
   "cell_type": "code",
   "execution_count": null,
   "metadata": {},
   "outputs": [],
   "source": [
    "import os\n",
    "from glob import glob\n",
    "from random import shuffle\n",
    "\n",
    "from sklearn.preprocessing import LabelEncoder\n",
    "\n",
    "\n",
    "class DatasetManager():\n",
    "\n",
    "    def __init__(self, path):\n",
    "        self.path = path\n",
    "        self.label_encoder = LabelEncoder()\n",
    "\n",
    "    def load_dataset(self,fraction=1):\n",
    "        self.train_img_paths = glob(os.path.join(self.path, \"train\", \"*\", \"*.jpg\"))\n",
    "        self.test_img_paths = glob(os.path.join(self.path, \"test\", \"*\", \"*.jpg\"))\n",
    "        self.train_labels = [os.path.split(os.path.split(img_path)[0])[-1] for img_path in self.train_img_paths]\n",
    "        self.test_labels = [os.path.split(os.path.split(img_path)[0])[-1] for img_path in self.test_img_paths]\n",
    "\n",
    "        self.transform_labels()\n",
    "\n",
    "        return self.train_img_paths, self.train_labels, self.test_img_paths, self.test_labels\n",
    "\n",
    "    def transform_labels(self):\n",
    "        self.label_encoder.fit(self.train_labels)\n",
    "        self.train_labels = self.label_encoder.transform(self.train_labels)\n",
    "        self.test_labels = self.label_encoder.transform(self.test_labels)\n",
    "\n",
    "    def inverse_transform_labels(self):\n",
    "        self.train_labels = self.label_encoder.inverse_transform(self.train_labels)\n",
    "        self.test_labels = self.label_encoder.inverse_transform(self.test_labels)\n"
   ]
  },
  {
   "cell_type": "code",
   "execution_count": null,
   "metadata": {},
   "outputs": [],
   "source": [
    "train_data_path = \"/home/joan/workspace/MCV_M3/M3_project/SavePath/data_fisher/train.dat\"\n",
    "test_data_path = \"/home/joan/workspace/MCV_M3/M3_project/SavePath/data_fisher/test.dat\"\n",
    "dataset = DatasetManager(\"/home/joan/workspace/MCV_M3/M3_project/Databases/MIT_split\")\n",
    "_, train_labels, _, test_labels = dataset.load_dataset()\n",
    "train_fvs = pickle.load(open(train_data_path, 'rb'))\n",
    "test_fvs = pickle.load(open(test_data_path, 'rb'))\n",
    "train_data = np.array(train_fvs)\n",
    "test_data = np.array(test_fvs)"
   ]
  },
  {
   "cell_type": "code",
   "execution_count": 46,
   "metadata": {},
   "outputs": [
    {
     "name": "stdout",
     "output_type": "stream",
     "text": [
      "(1881, 8192)\n",
      "1881\n",
      "Fitting 5 folds for each of 1 candidates, totalling 5 fits\n"
     ]
    },
    {
     "name": "stderr",
     "output_type": "stream",
     "text": [
      "[Parallel(n_jobs=-1)]: Using backend LokyBackend with 12 concurrent workers.\n",
      "[Parallel(n_jobs=-1)]: Done   2 out of   5 | elapsed:  2.2min remaining:  3.2min\n",
      "[Parallel(n_jobs=-1)]: Done   5 out of   5 | elapsed:  2.2min finished\n"
     ]
    },
    {
     "data": {
      "text/plain": [
       "GridSearchCV(cv=5, error_score='raise-deprecating',\n",
       "       estimator=SVC(C=1.0, cache_size=200, class_weight=None, coef0=0.0,\n",
       "  decision_function_shape='ovr', degree=3, gamma='auto_deprecated',\n",
       "  kernel='rbf', max_iter=-1, probability=False, random_state=None,\n",
       "  shrinking=True, tol=0.001, verbose=False),\n",
       "       fit_params=None, iid='warn', n_jobs=-1,\n",
       "       param_grid={'kernel': ['rbf'], 'C': [0.1], 'gamma': ['scale']},\n",
       "       pre_dispatch='2*n_jobs', refit=True, return_train_score='warn',\n",
       "       scoring=None, verbose=5)"
      ]
     },
     "execution_count": 46,
     "metadata": {},
     "output_type": "execute_result"
    }
   ],
   "source": [
    "K_FOLDS = 5\n",
    "PARAMETERS = {\n",
    "    'C': [1e-1],\n",
    "    'gamma': [\"scale\"],\n",
    "    'kernel': [\"rbf\"]}\n",
    "\n",
    "cv = GridSearchCV(SVC(), param_grid=PARAMETERS, cv=K_FOLDS, n_jobs=-1, verbose=5)\n",
    "cv.fit(train_data, train_labels)"
   ]
  },
  {
   "cell_type": "code",
   "execution_count": 54,
   "metadata": {},
   "outputs": [
    {
     "name": "stdout",
     "output_type": "stream",
     "text": [
      "Train accuracy score: 0.548112706007\n",
      "Test accuracy score: 0.484510532838\n",
      "Best params: {'kernel': 'rbf', 'C': 0.1, 'gamma': 'scale'}\n",
      "\n",
      "All results: {'std_train_score': array([0.00615506]), 'split4_test_score': array([0.39247312]), 'split0_train_score': array([0.45339547]), 'rank_test_score': array([1], dtype=int32), 'param_gamma': masked_array(data=['scale'],\n",
      "             mask=[False],\n",
      "       fill_value='?',\n",
      "            dtype=object), 'split2_train_score': array([0.45049834]), 'std_score_time': array([0.11076805]), 'split4_train_score': array([0.45593108]), 'split2_test_score': array([0.38829787]), 'mean_score_time': array([11.16088276]), 'mean_fit_time': array([73.16375642]), 'param_kernel': masked_array(data=['rbf'],\n",
      "             mask=[False],\n",
      "       fill_value='?',\n",
      "            dtype=object), 'param_C': masked_array(data=[0.1],\n",
      "             mask=[False],\n",
      "       fill_value='?',\n",
      "            dtype=object), 'std_test_score': array([0.00563429]), 'split1_train_score': array([0.43808256]), 'split0_test_score': array([0.40105541]), 'mean_test_score': array([0.39606592]), 'split3_train_score': array([0.45086321]), 'params': [{'kernel': 'rbf', 'C': 0.1, 'gamma': 'scale'}], 'std_fit_time': array([0.47351369]), 'split3_test_score': array([0.39466667]), 'mean_train_score': array([0.44975413]), 'split1_test_score': array([0.40369393])}\n"
     ]
    }
   ],
   "source": [
    "train_score = cv.score(train_data, train_labels)\n",
    "test_score = cv.score(test_data, test_labels)\n",
    "        \n",
    "print(\"Train accuracy score: {}\\nTest accuracy score: {}\\nBest params: {}\\n\".format(train_score, test_score, cv.best_params_))\n",
    "print(\"All results: {}\".format(cv.cv_results_))"
   ]
  },
  {
   "cell_type": "code",
   "execution_count": null,
   "metadata": {},
   "outputs": [],
   "source": []
  }
 ],
 "metadata": {
  "kernelspec": {
   "display_name": "Python 2",
   "language": "python",
   "name": "python2"
  },
  "language_info": {
   "codemirror_mode": {
    "name": "ipython",
    "version": 2
   },
   "file_extension": ".py",
   "mimetype": "text/x-python",
   "name": "python",
   "nbconvert_exporter": "python",
   "pygments_lexer": "ipython2",
   "version": "2.7.17"
  }
 },
 "nbformat": 4,
 "nbformat_minor": 2
}
