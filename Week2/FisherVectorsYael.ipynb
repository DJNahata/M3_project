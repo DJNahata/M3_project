{
 "cells": [
  {
   "cell_type": "code",
   "execution_count": 1,
   "metadata": {},
   "outputs": [],
   "source": [
    "import os\n",
    "import numpy as np\n",
    "from yael.yael import ynumpy\n",
    "from utils.DatasetManager import DatasetManager\n",
    "from utils.Kernels import histogram_intersection_kernel\n",
    "import pickle"
   ]
  },
  {
   "cell_type": "code",
   "execution_count": 2,
   "metadata": {},
   "outputs": [],
   "source": [
    "train_desc_path = \"/home/joan/workspace/MCV_M3/M3_project/SavePath/desc_fisher/train.dat\"\n",
    "test_desc_path = \"/home/joan/workspace/MCV_M3/M3_project/SavePath/desc_fisher/test.dat\""
   ]
  },
  {
   "cell_type": "code",
   "execution_count": 3,
   "metadata": {},
   "outputs": [],
   "source": [
    "train_desc = pickle.load(open(train_desc_path, 'rb'))\n",
    "test_desc = pickle.load(open(test_desc_path, 'rb'))\n",
    "all_train_desc = np.vstack(train_desc)"
   ]
  },
  {
   "cell_type": "code",
   "execution_count": 4,
   "metadata": {},
   "outputs": [],
   "source": [
    "k = 64\n",
    "n_sample = k * 5000\n",
    "\n",
    "# choose n_sample descriptors at random\n",
    "sample_indices = np.random.choice(all_train_desc.shape[0], n_sample)\n",
    "sample = all_train_desc[sample_indices]\n",
    "\n",
    "# until now sample was in uint8. Convert to float32\n",
    "sample = sample.astype('float32')\n",
    "\n",
    "# until now sample was in uint8. Convert to float32\n",
    "gmm = ynumpy.gmm_learn(sample, k)"
   ]
  },
  {
   "cell_type": "code",
   "execution_count": 5,
   "metadata": {},
   "outputs": [],
   "source": [
    "train_fvs = []\n",
    "\n",
    "for image_desc in train_desc:\n",
    "    fv = ynumpy.fisher(gmm, image_desc, include = 'mu')\n",
    "    train_fvs.append(fv)"
   ]
  },
  {
   "cell_type": "code",
   "execution_count": 6,
   "metadata": {},
   "outputs": [],
   "source": [
    "test_fvs = []\n",
    "\n",
    "for image_desc in test_desc:\n",
    "    fv = ynumpy.fisher(gmm, image_desc, include = 'mu')\n",
    "    test_fvs.append(fv)"
   ]
  },
  {
   "cell_type": "code",
   "execution_count": 7,
   "metadata": {},
   "outputs": [],
   "source": [
    "train_data_path = \"/home/joan/workspace/MCV_M3/M3_project/SavePath/data_fisher/train.dat\"\n",
    "test_data_path = \"/home/joan/workspace/MCV_M3/M3_project/SavePath/data_fisher/test.dat\"\n",
    "\n",
    "# Save computed data\n",
    "pickle.dump(train_fvs, open(train_data_path, 'wb'), protocol=2)\n",
    "pickle.dump(test_fvs, open(test_data_path, 'wb'), protocol=2)"
   ]
  },
  {
   "cell_type": "code",
   "execution_count": 8,
   "metadata": {},
   "outputs": [],
   "source": [
    "from sklearn.model_selection import GridSearchCV\n",
    "from sklearn.svm import SVC\n",
    "from sklearn.preprocessing import normalize"
   ]
  },
  {
   "cell_type": "code",
   "execution_count": 9,
   "metadata": {},
   "outputs": [],
   "source": [
    "train_data_path = \"/home/joan/workspace/MCV_M3/M3_project/SavePath/data_fisher/train.dat\"\n",
    "test_data_path = \"/home/joan/workspace/MCV_M3/M3_project/SavePath/data_fisher/test.dat\"\n",
    "dataset = DatasetManager(\"/home/joan/workspace/MCV_M3/M3_project/Databases/MIT_split\")\n",
    "_, train_labels, _, test_labels = dataset.load_dataset()\n",
    "train_fvs = pickle.load(open(train_data_path, 'rb'))\n",
    "test_fvs = pickle.load(open(test_data_path, 'rb'))\n",
    "train_data = np.array(train_fvs)\n",
    "test_data = np.array(test_fvs)"
   ]
  },
  {
   "cell_type": "code",
   "execution_count": 10,
   "metadata": {},
   "outputs": [
    {
     "name": "stdout",
     "output_type": "stream",
     "text": [
      "Fitting 5 folds for each of 1 candidates, totalling 5 fits\n"
     ]
    },
    {
     "name": "stderr",
     "output_type": "stream",
     "text": [
      "[Parallel(n_jobs=-1)]: Using backend LokyBackend with 12 concurrent workers.\n",
      "[Parallel(n_jobs=-1)]: Done   2 out of   5 | elapsed:  9.1min remaining: 13.7min\n",
      "[Parallel(n_jobs=-1)]: Done   5 out of   5 | elapsed:  9.3min finished\n"
     ]
    },
    {
     "data": {
      "text/plain": [
       "GridSearchCV(cv=5, error_score='raise-deprecating',\n",
       "       estimator=SVC(C=1.0, cache_size=200, class_weight=None, coef0=0.0,\n",
       "  decision_function_shape='ovr', degree=3, gamma='auto_deprecated',\n",
       "  kernel='rbf', max_iter=-1, probability=False, random_state=None,\n",
       "  shrinking=True, tol=0.001, verbose=False),\n",
       "       fit_params=None, iid='warn', n_jobs=-1,\n",
       "       param_grid={'kernel': [<function histogram_intersection_kernel at 0x7ff82c0d83d0>], 'C': [0.00134], 'gamma': ['scale']},\n",
       "       pre_dispatch='2*n_jobs', refit=True, return_train_score='warn',\n",
       "       scoring=None, verbose=5)"
      ]
     },
     "execution_count": 10,
     "metadata": {},
     "output_type": "execute_result"
    }
   ],
   "source": [
    "K_FOLDS = 5\n",
    "PARAMETERS = {\n",
    "    'C': [0.00134],\n",
    "    'gamma': [\"scale\"],\n",
    "    'kernel': [histogram_intersection_kernel]}\n",
    "\n",
    "cv = GridSearchCV(SVC(), param_grid=PARAMETERS, cv=K_FOLDS, n_jobs=-1, verbose=5)\n",
    "cv.fit(train_data, train_labels)"
   ]
  },
  {
   "cell_type": "code",
   "execution_count": 11,
   "metadata": {},
   "outputs": [
    {
     "name": "stdout",
     "output_type": "stream",
     "text": [
      "Train accuracy score: 0.999468367889\n",
      "Test accuracy score: 0.877323420074\n",
      "Best params: {'kernel': <function histogram_intersection_kernel at 0x7ff82c0d83d0>, 'C': 0.00134, 'gamma': 'scale'}\n",
      "\n",
      "All results: {'std_train_score': array([0.00026587]), 'split4_test_score': array([0.86021505]), 'split0_train_score': array([0.99933422]), 'rank_test_score': array([1], dtype=int32), 'param_gamma': masked_array(data=['scale'],\n",
      "             mask=[False],\n",
      "       fill_value='?',\n",
      "            dtype=object), 'split2_train_score': array([0.99933555]), 'std_score_time': array([1.92198117]), 'split4_train_score': array([0.99933731]), 'split2_test_score': array([0.88297872]), 'mean_score_time': array([52.24375176]), 'mean_fit_time': array([222.23916001]), 'param_kernel': masked_array(data=[<function histogram_intersection_kernel at 0x7ff82c0d83d0>],\n",
      "             mask=[False],\n",
      "       fill_value='?',\n",
      "            dtype=object), 'param_C': masked_array(data=[0.00134],\n",
      "             mask=[False],\n",
      "       fill_value='?',\n",
      "            dtype=object), 'std_test_score': array([0.01784812]), 'split1_train_score': array([0.99933422]), 'split0_test_score': array([0.8707124]), 'mean_test_score': array([0.88304094]), 'split3_train_score': array([1.]), 'params': [{'kernel': <function histogram_intersection_kernel at 0x7ff82c0d83d0>, 'C': 0.00134, 'gamma': 'scale'}], 'std_fit_time': array([2.27959434]), 'split3_test_score': array([0.888]), 'mean_train_score': array([0.99946826]), 'split1_test_score': array([0.91292876])}\n"
     ]
    }
   ],
   "source": [
    "train_score = cv.score(train_data, train_labels)\n",
    "test_score = cv.score(test_data, test_labels)\n",
    "        \n",
    "print(\"Train accuracy score: {}\\nTest accuracy score: {}\\nBest params: {}\\n\".format(train_score, test_score, cv.best_params_))\n",
    "print(\"All results: {}\".format(cv.cv_results_))"
   ]
  },
  {
   "cell_type": "code",
   "execution_count": null,
   "metadata": {},
   "outputs": [],
   "source": []
  }
 ],
 "metadata": {
  "kernelspec": {
   "display_name": "Python 2",
   "language": "python",
   "name": "python2"
  },
  "language_info": {
   "codemirror_mode": {
    "name": "ipython",
    "version": 2
   },
   "file_extension": ".py",
   "mimetype": "text/x-python",
   "name": "python",
   "nbconvert_exporter": "python",
   "pygments_lexer": "ipython2",
   "version": "2.7.17"
  }
 },
 "nbformat": 4,
 "nbformat_minor": 2
}
